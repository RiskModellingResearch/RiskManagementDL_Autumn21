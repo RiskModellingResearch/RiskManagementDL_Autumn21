{
 "cells": [
  {
   "cell_type": "markdown",
   "metadata": {},
   "source": [
    "# Разбор домашней работы"
   ]
  },
  {
   "cell_type": "code",
   "execution_count": 4,
   "metadata": {},
   "outputs": [
    {
     "name": "stdout",
     "output_type": "stream",
     "text": [
      "1.6.0\n"
     ]
    }
   ],
   "source": [
    "import warnings\n",
    "warnings.filterwarnings(\"ignore\")\n",
    "\n",
    "import numpy as np\n",
    "import pandas as pd\n",
    "import seaborn as sns\n",
    "import matplotlib.pyplot as plt\n",
    "plt.style.use('ggplot')\n",
    "\n",
    "%matplotlib inline\n",
    "\n",
    "# Подгружаем pytorch \n",
    "import torch\n",
    "\n",
    "print(torch.__version__)\n",
    "\n",
    "import torch.nn as nn # содержит функции для реалзации архитектуры нейронных сетей\n",
    "import torch.nn.functional as F # содержит различные функции активации и не только\n",
    "import torch.optim as optim\n",
    "import torch.utils.data as data_utils\n",
    "\n",
    "from pytorch_lightning.metrics import Accuracy\n",
    "\n",
    "from sklearn.model_selection import train_test_split\n",
    "from sklearn.preprocessing import LabelEncoder\n",
    "from sklearn.preprocessing import StandardScaler"
   ]
  },
  {
   "cell_type": "code",
   "execution_count": 2,
   "metadata": {},
   "outputs": [],
   "source": [
    "def load_dataset():\n",
    "    X = pd.read_csv('./data/X_cat.csv', sep='\\t', index_col=0)\n",
    "    target = pd.read_csv('./data/y_cat.csv', sep='\\t', index_col=0, names=['status'])  # header=-1,\n",
    "\n",
    "    print(X.shape)\n",
    "    print(X.head())\n",
    "\n",
    "    target = target.iloc[:, :].values\n",
    "    target[target == 'Died'] = 'Euthanasia'\n",
    "\n",
    "    le = LabelEncoder()\n",
    "    y = le.fit_transform(target)\n",
    "\n",
    "    return X, y"
   ]
  },
  {
   "cell_type": "code",
   "execution_count": 5,
   "metadata": {},
   "outputs": [
    {
     "name": "stdout",
     "output_type": "stream",
     "text": [
      "(26729, 37)\n",
      "   IsDog    Age  HasName  NameLength  NameFreq  MixColor  ColorFreqAsIs  \\\n",
      "0      1  365.0        1           7  0.000157         1       0.032919   \n",
      "1      0  365.0        1           5  0.000655         0       0.008092   \n",
      "2      1  730.0        1           6  0.000052         1       0.026293   \n",
      "3      0   21.0        0           7  0.285871         0       0.000471   \n",
      "4      1  730.0        0           7  0.285871         0       0.023831   \n",
      "\n",
      "   ColorFreqBase  TabbyColor  MixBreed  ...  SexStatus_Flawed  \\\n",
      "0       0.463624           0         1  ...                 1   \n",
      "1       0.015005           1         1  ...                 1   \n",
      "2       0.357521           0         1  ...                 1   \n",
      "3       0.058418           0         1  ...                 0   \n",
      "4       0.075353           0         0  ...                 1   \n",
      "\n",
      "   SexStatus_Intact  SexStatus_Unknown  Weekday_0  Weekday_1  Weekday_2  \\\n",
      "0                 0                  0          0          0          1   \n",
      "1                 0                  0          0          0          0   \n",
      "2                 0                  0          0          0          0   \n",
      "3                 1                  0          0          0          0   \n",
      "4                 0                  0          0          0          0   \n",
      "\n",
      "   Weekday_3  Weekday_4  Weekday_5  Weekday_6  \n",
      "0          0          0          0          0  \n",
      "1          0          0          0          1  \n",
      "2          0          0          1          0  \n",
      "3          0          1          0          0  \n",
      "4          0          1          0          0  \n",
      "\n",
      "[5 rows x 37 columns]\n"
     ]
    }
   ],
   "source": [
    "features, labels = load_dataset()"
   ]
  },
  {
   "cell_type": "code",
   "execution_count": 6,
   "metadata": {},
   "outputs": [
    {
     "data": {
      "text/plain": [
       "array(['IsDog', 'Age', 'HasName', 'NameLength', 'NameFreq', 'MixColor',\n",
       "       'ColorFreqAsIs', 'ColorFreqBase', 'TabbyColor', 'MixBreed',\n",
       "       'Domestic', 'Shorthair', 'Longhair', 'Year', 'Month', 'Day',\n",
       "       'Hour', 'Breed_Chihuahua Shorthair Mix',\n",
       "       'Breed_Domestic Medium Hair Mix', 'Breed_Domestic Shorthair Mix',\n",
       "       'Breed_German Shepherd Mix', 'Breed_Labrador Retriever Mix',\n",
       "       'Breed_Pit Bull Mix', 'Breed_Rare', 'Sex_Female', 'Sex_Male',\n",
       "       'Sex_Unknown', 'SexStatus_Flawed', 'SexStatus_Intact',\n",
       "       'SexStatus_Unknown', 'Weekday_0', 'Weekday_1', 'Weekday_2',\n",
       "       'Weekday_3', 'Weekday_4', 'Weekday_5', 'Weekday_6'], dtype=object)"
      ]
     },
     "execution_count": 6,
     "metadata": {},
     "output_type": "execute_result"
    }
   ],
   "source": [
    "features.columns.values"
   ]
  },
  {
   "cell_type": "code",
   "execution_count": 7,
   "metadata": {},
   "outputs": [
    {
     "data": {
      "text/plain": [
       "0        2014\n",
       "1        2013\n",
       "2        2015\n",
       "3        2014\n",
       "4        2013\n",
       "         ... \n",
       "26724    2015\n",
       "26725    2016\n",
       "26726    2015\n",
       "26727    2014\n",
       "26728    2015\n",
       "Name: Year, Length: 26729, dtype: int64"
      ]
     },
     "execution_count": 7,
     "metadata": {},
     "output_type": "execute_result"
    }
   ],
   "source": [
    "features['Year']"
   ]
  },
  {
   "cell_type": "markdown",
   "metadata": {},
   "source": [
    "1. Характеристика __Year__ принимает большие значения. "
   ]
  },
  {
   "cell_type": "markdown",
   "metadata": {},
   "source": [
    "При ненормализованных значениях поверхность оптимизируемой функции становится вытянутой, и найти локальный минимум становится сложнее."
   ]
  },
  {
   "cell_type": "markdown",
   "metadata": {},
   "source": [
    "![\"Unnormalized\"](./images/Unnormalized.png 'Unnormalized')"
   ]
  },
  {
   "cell_type": "markdown",
   "metadata": {},
   "source": [
    "При обучении градиентный метод сходится медленно, и чтобы обучение шло, необходимо learning rate делать небольшим, то есть гораздо меньше, чем если данные были бы нормализованы."
   ]
  },
  {
   "cell_type": "markdown",
   "metadata": {},
   "source": [
    "![\"Unnormalized\"](./images/BadSurface.png 'UnnormalizedSurface')"
   ]
  },
  {
   "cell_type": "markdown",
   "metadata": {},
   "source": [
    "При нормализованных характеристиках оптимизируемая поверхность становится симметричной, и метод сходится __быстрее__, т.е. сеть обучается быстрее."
   ]
  },
  {
   "cell_type": "markdown",
   "metadata": {},
   "source": [
    "![\"Normalized\"](./images/Normalized.png 'Normalized')"
   ]
  },
  {
   "cell_type": "markdown",
   "metadata": {},
   "source": [
    "Другими словами, при прохождения через слои, нейроны будут уделять больше всего внимания именно этой характеристике, так как значение будет оставться большим, и зависимости между другими характеристиками искать не будут. \n",
    "Чтобы предотвратить все выше описанное, небходимо всегда делать __нормализацию__ входных данных."
   ]
  },
  {
   "cell_type": "markdown",
   "metadata": {},
   "source": [
    "2. Используемая функция активации `Sigmoid`, как уже упоминалось, она может приводить к обнулению градиентов, и сеть перестают хорошо обучаться. Поэтому можно попробовать другие нелинейные функции, например, `ReLU`. Но наиболее остро проблема с `Sigmoid` ощущается именно в глубоких нейронных сетях."
   ]
  },
  {
   "cell_type": "markdown",
   "metadata": {},
   "source": [
    "3. Так же можно изменить количество слоев и количество нейронов в скрытом слое. Нет четкого теоритического обоснования, сколько именно нейронов должно быть. Но есть некоторые эвристики, которые помогут уменьшить количетсво экспериментов для подбора нужного числа."
   ]
  },
  {
   "cell_type": "markdown",
   "metadata": {},
   "source": [
    "__Rules of Thumb__ (количество скрытых слоев)"
   ]
  },
  {
   "cell_type": "markdown",
   "metadata": {},
   "source": [
    "1. В работах `Hornik, Stinchcombe and White 1989; Hornik 1993; Bishop 1995, 130, and Ripley, 1996, 173-180` указано, что можете взять __один слой__ и много нейронов и с этим аппроксимировать все, что угодно (\"universal approximation\"). Но нигде теоритически не подкреплено, сколько именно нейронов нужно, чтобы аппроксимировать любую функцию.\n",
    "\n",
    "2. Но можно \"подстраховаться\" на случай, если целевая функция сложная и/или на оптимизируемой поверхности есть несколько возвышений, то тогда лучше сделать __два слоя__, и количество __нейронов не меньше двух__. (`Chester, D.L. (1990), \"Why Two Hidden Layers are Better than One\"`)"
   ]
  },
  {
   "cell_type": "markdown",
   "metadata": {},
   "source": [
    "__Rules of Thumb__ (количество нейронов в скрытом слое)"
   ]
  },
  {
   "cell_type": "markdown",
   "metadata": {},
   "source": [
    "1. Количество нейронов в скрытом слое: в промежутке сколько входных характеристик, и сколько выходных значений (Blum, A. (1992), Neural Networks in C++, NY: Wiley)\n",
    "2. (Number of inputs + outputs) * (2/3)\n",
    "3. Количество нейроной в скрытом слое не должно быть больше, чем в __два раза__ размера входного тензора. Swingler, K. (1996), Applying Neural Networks: A Practical Guide, London: Academic Press.\n",
    "4. Зависит от количество наблюдений в обучающей выборке. Для данных размером от 150 до 2500 элементов __20__ нейронов достаточно для одного скрытого слоя."
   ]
  },
  {
   "cell_type": "code",
   "execution_count": 8,
   "metadata": {},
   "outputs": [],
   "source": [
    "INPUT_SIZE = 37\n",
    "HIDDEN_SIZE = 25\n",
    "OUTPUT_SIZE = 4\n",
    "LEARNING_RATE = 1e-3\n",
    "EPOCHS = 100\n",
    "BATCH_SIZE = 128"
   ]
  },
  {
   "cell_type": "markdown",
   "metadata": {},
   "source": [
    "Для того чтобы подавать данные в нейронную сеть, создадим `DataLoader`, который предоставляет гибкий API для работы с входными данными."
   ]
  },
  {
   "cell_type": "markdown",
   "metadata": {},
   "source": [
    "__DataLoader__ для обучения сети"
   ]
  },
  {
   "cell_type": "code",
   "execution_count": 11,
   "metadata": {},
   "outputs": [],
   "source": [
    "def create_data_loader(X, y):\n",
    "    X_train, X_test, y_train, y_test = train_test_split(X.iloc[:, :], y,\n",
    "                                                        test_size=0.2, stratify=y, random_state=42)\n",
    "\n",
    "\n",
    "    scaler = StandardScaler()\n",
    "    X_train = scaler.fit_transform(X_train)\n",
    "    X_test = scaler.transform(X_test)\n",
    "    \n",
    "    train_tensor = data_utils.TensorDataset(torch.tensor(X_train.astype(np.float32)), torch.tensor(y_train))\n",
    "    train_loader = data_utils.DataLoader(dataset=train_tensor,\n",
    "                                         batch_size=BATCH_SIZE,\n",
    "                                         shuffle=True)\n",
    "\n",
    "    test_tensor = data_utils.TensorDataset(torch.tensor(X_test.astype(np.float32)), torch.tensor(y_test))\n",
    "    test_loader = data_utils.DataLoader(dataset=test_tensor,\n",
    "                                        batch_size=BATCH_SIZE,\n",
    "                                        shuffle=False)\n",
    "    return train_loader, test_loader"
   ]
  },
  {
   "cell_type": "code",
   "execution_count": 12,
   "metadata": {},
   "outputs": [],
   "source": [
    "train_loader, test_loader = create_data_loader(X, y)"
   ]
  },
  {
   "cell_type": "code",
   "execution_count": null,
   "metadata": {},
   "outputs": [],
   "source": []
  }
 ],
 "metadata": {
  "kernelspec": {
   "display_name": "Python 3",
   "language": "python",
   "name": "python3"
  },
  "language_info": {
   "codemirror_mode": {
    "name": "ipython",
    "version": 3
   },
   "file_extension": ".py",
   "mimetype": "text/x-python",
   "name": "python",
   "nbconvert_exporter": "python",
   "pygments_lexer": "ipython3",
   "version": "3.6.6"
  }
 },
 "nbformat": 4,
 "nbformat_minor": 1
}
