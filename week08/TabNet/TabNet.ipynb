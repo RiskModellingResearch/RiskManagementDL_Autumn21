{
 "cells": [
  {
   "cell_type": "markdown",
   "metadata": {},
   "source": [
    "# TabNet"
   ]
  },
  {
   "cell_type": "markdown",
   "metadata": {},
   "source": [
    "https://arxiv.org/pdf/1908.07442.pdf"
   ]
  },
  {
   "cell_type": "markdown",
   "metadata": {},
   "source": [
    "## Global architecture"
   ]
  },
  {
   "cell_type": "markdown",
   "metadata": {},
   "source": [
    "<img src=\"./images/global_arch.png\" alt=\"Drawing\" width=\"600px\"/>"
   ]
  },
  {
   "cell_type": "markdown",
   "metadata": {},
   "source": [
    "## Feature Transformer"
   ]
  },
  {
   "cell_type": "markdown",
   "metadata": {},
   "source": [
    "<img src=\"./images/feature_transformer.png\" alt=\"Drawing\" width=\"600px\"/>"
   ]
  },
  {
   "cell_type": "markdown",
   "metadata": {},
   "source": [
    "Видно, что есть повторяющиеся последовательности слоев => выделим их в отдельный слой."
   ]
  },
  {
   "cell_type": "markdown",
   "metadata": {},
   "source": [
    "## GLU Layer"
   ]
  },
  {
   "cell_type": "code",
   "execution_count": null,
   "metadata": {},
   "outputs": [],
   "source": [
    "class GLULayer(nn.Module):\n",
    "\n",
    "    def __init__(self, input_size, output_size):\n",
    "        super(GLULayer, self).__init__()\n",
    "\n",
    "        self.fc = torch.nn.Linear(input_size, output_size)\n",
    "        self.fc_bn = torch.nn.BatchNorm1d(output_size)\n",
    "\n",
    "\n",
    "    def init_weights(self, m):\n",
    "        if type(m) == nn.Linear:\n",
    "            torch.nn.init.xavier_uniform(m.weight)\n",
    "            # m.bias.data.fill_(0.001)\n",
    "\n",
    "    def forward(self, input_data):\n",
    "        output = self.fc(input_data)\n",
    "        output = self.fc_bn(output)\n",
    "        output = torch.nn.functional.glu(output)\n",
    "\n",
    "        return output"
   ]
  },
  {
   "cell_type": "markdown",
   "metadata": {},
   "source": [
    "<img src=\"./images/glu.png\" alt=\"Drawing\" width=\"600px\"/>"
   ]
  },
  {
   "cell_type": "code",
   "execution_count": null,
   "metadata": {},
   "outputs": [],
   "source": [
    "class FeatureTransformer(nn.Module):\n",
    "\n",
    "    def __init__(self, nrof_glu, input_size, output_size):\n",
    "        super(FeatureTransformer, self).__init__()\n",
    "\n",
    "        self.scale = torch.sqrt(torch.FloatTensor([0.5]))\n",
    "\n",
    "        self.nrof_glu = nrof_glu\n",
    "        self.glu_layers = []\n",
    "\n",
    "        for i in range(nrof_glu):\n",
    "            self.glu_layers.append(GLULayer(input_size[i], output_size))\n",
    "\n",
    "    def forward(self, input_data):\n",
    "        layer_input_data = input_data\n",
    "        for i in range(self.nrof_glu):\n",
    "            layer_input_data = torch.add(layer_input_data, self.glu_layers[i](layer_input_data))\n",
    "            layer_input_data = layer_input_data * self.scale"
   ]
  },
  {
   "cell_type": "markdown",
   "metadata": {},
   "source": [
    "## Attentive Transformer"
   ]
  },
  {
   "cell_type": "markdown",
   "metadata": {},
   "source": [
    "<img src=\"./images/attentive_transformer.png\" alt=\"Drawing\" width=\"300px\"/>"
   ]
  },
  {
   "cell_type": "code",
   "execution_count": null,
   "metadata": {},
   "outputs": [],
   "source": [
    "class AttentiveTransformer(nn.Module):\n",
    "\n",
    "    def __init__(self):\n",
    "        super(AttentiveTransformer, self).__init__()\n",
    "\n",
    "\n",
    "    def init_weights(self, m):\n",
    "        if type(m) == nn.Linear:\n",
    "            torch.nn.init.xavier_uniform(m.weight)\n",
    "            # m.bias.data.fill_(0.001)\n",
    "\n",
    "    def forward(self, input_data):\n",
    "\n",
    "        return output"
   ]
  },
  {
   "cell_type": "markdown",
   "metadata": {},
   "source": [
    "### Sparsemax https://github.com/KrisKorrel/sparsemax-pytorch/blob/master/sparsemax.py"
   ]
  },
  {
   "cell_type": "markdown",
   "metadata": {},
   "source": [
    "## Собираем все слои в одну большую сеть"
   ]
  },
  {
   "cell_type": "code",
   "execution_count": null,
   "metadata": {},
   "outputs": [],
   "source": [
    "class TabNet(nn.Module):\n",
    "    def __init__(self):\n",
    "        super(TabNet, self).__init__()\n",
    "\n",
    "\n",
    "\n",
    "\n",
    "    def init_weights(self, m):\n",
    "        if type(m) == nn.Linear:\n",
    "            torch.nn.init.xavier_uniform(m.weight)\n",
    "            # m.bias.data.fill_(0.001)\n",
    "\n",
    "    def forward(self, input_data):\n",
    "\n",
    "        return"
   ]
  }
 ],
 "metadata": {
  "kernelspec": {
   "display_name": "Python 3",
   "language": "python",
   "name": "python3"
  },
  "language_info": {
   "codemirror_mode": {
    "name": "ipython",
    "version": 3
   },
   "file_extension": ".py",
   "mimetype": "text/x-python",
   "name": "python",
   "nbconvert_exporter": "python",
   "pygments_lexer": "ipython3",
   "version": "3.8.5"
  }
 },
 "nbformat": 4,
 "nbformat_minor": 1
}
