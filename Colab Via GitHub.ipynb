{
 "cells": [
  {
   "cell_type": "markdown",
   "metadata": {},
   "source": [
    "1. Откройте в браузере https://colab.research.google.com/\n",
    "2. Выберите в открывшемся окне вкладку GitHub\n",
    "![\"GitHub\"](./readme_data/github.png 'GitHub')\n",
    "3. Введите адрес репозитория https://github.com/RiskModellingResearch/RiskManagementDL_Autumn21\n",
    "4. Выберите необходимый ноутбук\n",
    "5. В открывшемся ноутбуке введите команду клонирования репозитория\n",
    "!git clone https://github.com/RiskModellingResearch/RiskManagementDL_Autumn21.git\n",
    "6. Слева в меню выберите иконку \"папка\" и там будет лежать репозиторий склонированный.\n",
    "![\"Folder\"](./readme_data/folder.png 'Folder')\n",
    "7. Правой кнопкой мышки можно скопировать путь до нужных файлов."
   ]
  },
  {
   "cell_type": "code",
   "execution_count": null,
   "metadata": {},
   "outputs": [],
   "source": []
  }
 ],
 "metadata": {
  "kernelspec": {
   "display_name": "Python 3",
   "language": "python",
   "name": "python3"
  },
  "language_info": {
   "codemirror_mode": {
    "name": "ipython",
    "version": 3
   },
   "file_extension": ".py",
   "mimetype": "text/x-python",
   "name": "python",
   "nbconvert_exporter": "python",
   "pygments_lexer": "ipython3",
   "version": "3.6.6"
  }
 },
 "nbformat": 4,
 "nbformat_minor": 2
}
