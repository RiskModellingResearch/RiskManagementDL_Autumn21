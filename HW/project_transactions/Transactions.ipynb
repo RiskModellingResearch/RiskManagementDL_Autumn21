{
 "cells": [
  {
   "cell_type": "markdown",
   "metadata": {},
   "source": [
    "Скачать датасет, разделенный на train, valid: https://disk.yandex.ru/d/e6ni0ZV8M5dnEA "
   ]
  },
  {
   "cell_type": "markdown",
   "metadata": {},
   "source": [
    "1. Решаем задачу бинарной классификации: является ли клиент фродовым. Транзакции для каждого клиента имеют таргет 'Is Fraud?' и он будет одинкаовым для каждой транзакции клиента.\n",
    "2. Необходимо провести feature engineering\n",
    "3. Выбрать подходящую архитектуру нейронной сети.\n",
    "4. Обучить сеть\n",
    "5. Показать графики обучения и точности модели"
   ]
  },
  {
   "cell_type": "code",
   "execution_count": 48,
   "metadata": {},
   "outputs": [],
   "source": [
    "import pandas as pd\n",
    "import numpy as np\n",
    "import pickle"
   ]
  },
  {
   "cell_type": "code",
   "execution_count": 2,
   "metadata": {},
   "outputs": [],
   "source": [
    "data = pd.read_csv('/Users/macbook/Desktop/card_transaction.v1.csv')"
   ]
  },
  {
   "cell_type": "code",
   "execution_count": 3,
   "metadata": {},
   "outputs": [
    {
     "data": {
      "text/plain": [
       "array(['User', 'Card', 'Year', 'Month', 'Day', 'Time', 'Amount',\n",
       "       'Use Chip', 'Merchant Name', 'Merchant City', 'Merchant State',\n",
       "       'Zip', 'MCC', 'Errors?', 'Is Fraud?'], dtype=object)"
      ]
     },
     "execution_count": 3,
     "metadata": {},
     "output_type": "execute_result"
    }
   ],
   "source": [
    "data.columns.values"
   ]
  },
  {
   "cell_type": "code",
   "execution_count": 4,
   "metadata": {
    "scrolled": true
   },
   "outputs": [
    {
     "data": {
      "text/html": [
       "<div>\n",
       "<style scoped>\n",
       "    .dataframe tbody tr th:only-of-type {\n",
       "        vertical-align: middle;\n",
       "    }\n",
       "\n",
       "    .dataframe tbody tr th {\n",
       "        vertical-align: top;\n",
       "    }\n",
       "\n",
       "    .dataframe thead th {\n",
       "        text-align: right;\n",
       "    }\n",
       "</style>\n",
       "<table border=\"1\" class=\"dataframe\">\n",
       "  <thead>\n",
       "    <tr style=\"text-align: right;\">\n",
       "      <th></th>\n",
       "      <th>User</th>\n",
       "      <th>Card</th>\n",
       "      <th>Year</th>\n",
       "      <th>Month</th>\n",
       "      <th>Day</th>\n",
       "      <th>Time</th>\n",
       "      <th>Amount</th>\n",
       "      <th>Use Chip</th>\n",
       "      <th>Merchant Name</th>\n",
       "      <th>Merchant City</th>\n",
       "      <th>Merchant State</th>\n",
       "      <th>Zip</th>\n",
       "      <th>MCC</th>\n",
       "      <th>Errors?</th>\n",
       "      <th>Is Fraud?</th>\n",
       "    </tr>\n",
       "  </thead>\n",
       "  <tbody>\n",
       "    <tr>\n",
       "      <th>0</th>\n",
       "      <td>0</td>\n",
       "      <td>0</td>\n",
       "      <td>2002</td>\n",
       "      <td>9</td>\n",
       "      <td>1</td>\n",
       "      <td>06:21</td>\n",
       "      <td>$134.09</td>\n",
       "      <td>Swipe Transaction</td>\n",
       "      <td>3527213246127876953</td>\n",
       "      <td>La Verne</td>\n",
       "      <td>CA</td>\n",
       "      <td>91750.0</td>\n",
       "      <td>5300</td>\n",
       "      <td>NaN</td>\n",
       "      <td>No</td>\n",
       "    </tr>\n",
       "    <tr>\n",
       "      <th>1</th>\n",
       "      <td>0</td>\n",
       "      <td>0</td>\n",
       "      <td>2002</td>\n",
       "      <td>9</td>\n",
       "      <td>1</td>\n",
       "      <td>06:42</td>\n",
       "      <td>$38.48</td>\n",
       "      <td>Swipe Transaction</td>\n",
       "      <td>-727612092139916043</td>\n",
       "      <td>Monterey Park</td>\n",
       "      <td>CA</td>\n",
       "      <td>91754.0</td>\n",
       "      <td>5411</td>\n",
       "      <td>NaN</td>\n",
       "      <td>No</td>\n",
       "    </tr>\n",
       "    <tr>\n",
       "      <th>2</th>\n",
       "      <td>0</td>\n",
       "      <td>0</td>\n",
       "      <td>2002</td>\n",
       "      <td>9</td>\n",
       "      <td>2</td>\n",
       "      <td>06:22</td>\n",
       "      <td>$120.34</td>\n",
       "      <td>Swipe Transaction</td>\n",
       "      <td>-727612092139916043</td>\n",
       "      <td>Monterey Park</td>\n",
       "      <td>CA</td>\n",
       "      <td>91754.0</td>\n",
       "      <td>5411</td>\n",
       "      <td>NaN</td>\n",
       "      <td>No</td>\n",
       "    </tr>\n",
       "    <tr>\n",
       "      <th>3</th>\n",
       "      <td>0</td>\n",
       "      <td>0</td>\n",
       "      <td>2002</td>\n",
       "      <td>9</td>\n",
       "      <td>2</td>\n",
       "      <td>17:45</td>\n",
       "      <td>$128.95</td>\n",
       "      <td>Swipe Transaction</td>\n",
       "      <td>3414527459579106770</td>\n",
       "      <td>Monterey Park</td>\n",
       "      <td>CA</td>\n",
       "      <td>91754.0</td>\n",
       "      <td>5651</td>\n",
       "      <td>NaN</td>\n",
       "      <td>No</td>\n",
       "    </tr>\n",
       "    <tr>\n",
       "      <th>4</th>\n",
       "      <td>0</td>\n",
       "      <td>0</td>\n",
       "      <td>2002</td>\n",
       "      <td>9</td>\n",
       "      <td>3</td>\n",
       "      <td>06:23</td>\n",
       "      <td>$104.71</td>\n",
       "      <td>Swipe Transaction</td>\n",
       "      <td>5817218446178736267</td>\n",
       "      <td>La Verne</td>\n",
       "      <td>CA</td>\n",
       "      <td>91750.0</td>\n",
       "      <td>5912</td>\n",
       "      <td>NaN</td>\n",
       "      <td>No</td>\n",
       "    </tr>\n",
       "    <tr>\n",
       "      <th>...</th>\n",
       "      <td>...</td>\n",
       "      <td>...</td>\n",
       "      <td>...</td>\n",
       "      <td>...</td>\n",
       "      <td>...</td>\n",
       "      <td>...</td>\n",
       "      <td>...</td>\n",
       "      <td>...</td>\n",
       "      <td>...</td>\n",
       "      <td>...</td>\n",
       "      <td>...</td>\n",
       "      <td>...</td>\n",
       "      <td>...</td>\n",
       "      <td>...</td>\n",
       "      <td>...</td>\n",
       "    </tr>\n",
       "    <tr>\n",
       "      <th>24386895</th>\n",
       "      <td>1999</td>\n",
       "      <td>1</td>\n",
       "      <td>2020</td>\n",
       "      <td>2</td>\n",
       "      <td>27</td>\n",
       "      <td>22:23</td>\n",
       "      <td>$-54.00</td>\n",
       "      <td>Chip Transaction</td>\n",
       "      <td>-5162038175624867091</td>\n",
       "      <td>Merrimack</td>\n",
       "      <td>NH</td>\n",
       "      <td>3054.0</td>\n",
       "      <td>5541</td>\n",
       "      <td>NaN</td>\n",
       "      <td>No</td>\n",
       "    </tr>\n",
       "    <tr>\n",
       "      <th>24386896</th>\n",
       "      <td>1999</td>\n",
       "      <td>1</td>\n",
       "      <td>2020</td>\n",
       "      <td>2</td>\n",
       "      <td>27</td>\n",
       "      <td>22:24</td>\n",
       "      <td>$54.00</td>\n",
       "      <td>Chip Transaction</td>\n",
       "      <td>-5162038175624867091</td>\n",
       "      <td>Merrimack</td>\n",
       "      <td>NH</td>\n",
       "      <td>3054.0</td>\n",
       "      <td>5541</td>\n",
       "      <td>NaN</td>\n",
       "      <td>No</td>\n",
       "    </tr>\n",
       "    <tr>\n",
       "      <th>24386897</th>\n",
       "      <td>1999</td>\n",
       "      <td>1</td>\n",
       "      <td>2020</td>\n",
       "      <td>2</td>\n",
       "      <td>28</td>\n",
       "      <td>07:43</td>\n",
       "      <td>$59.15</td>\n",
       "      <td>Chip Transaction</td>\n",
       "      <td>2500998799892805156</td>\n",
       "      <td>Merrimack</td>\n",
       "      <td>NH</td>\n",
       "      <td>3054.0</td>\n",
       "      <td>4121</td>\n",
       "      <td>NaN</td>\n",
       "      <td>No</td>\n",
       "    </tr>\n",
       "    <tr>\n",
       "      <th>24386898</th>\n",
       "      <td>1999</td>\n",
       "      <td>1</td>\n",
       "      <td>2020</td>\n",
       "      <td>2</td>\n",
       "      <td>28</td>\n",
       "      <td>20:10</td>\n",
       "      <td>$43.12</td>\n",
       "      <td>Chip Transaction</td>\n",
       "      <td>2500998799892805156</td>\n",
       "      <td>Merrimack</td>\n",
       "      <td>NH</td>\n",
       "      <td>3054.0</td>\n",
       "      <td>4121</td>\n",
       "      <td>NaN</td>\n",
       "      <td>No</td>\n",
       "    </tr>\n",
       "    <tr>\n",
       "      <th>24386899</th>\n",
       "      <td>1999</td>\n",
       "      <td>1</td>\n",
       "      <td>2020</td>\n",
       "      <td>2</td>\n",
       "      <td>28</td>\n",
       "      <td>23:10</td>\n",
       "      <td>$45.13</td>\n",
       "      <td>Chip Transaction</td>\n",
       "      <td>4751695835751691036</td>\n",
       "      <td>Merrimack</td>\n",
       "      <td>NH</td>\n",
       "      <td>3054.0</td>\n",
       "      <td>5814</td>\n",
       "      <td>NaN</td>\n",
       "      <td>No</td>\n",
       "    </tr>\n",
       "  </tbody>\n",
       "</table>\n",
       "<p>24386900 rows × 15 columns</p>\n",
       "</div>"
      ],
      "text/plain": [
       "          User  Card  Year  Month  Day   Time   Amount           Use Chip  \\\n",
       "0            0     0  2002      9    1  06:21  $134.09  Swipe Transaction   \n",
       "1            0     0  2002      9    1  06:42   $38.48  Swipe Transaction   \n",
       "2            0     0  2002      9    2  06:22  $120.34  Swipe Transaction   \n",
       "3            0     0  2002      9    2  17:45  $128.95  Swipe Transaction   \n",
       "4            0     0  2002      9    3  06:23  $104.71  Swipe Transaction   \n",
       "...        ...   ...   ...    ...  ...    ...      ...                ...   \n",
       "24386895  1999     1  2020      2   27  22:23  $-54.00   Chip Transaction   \n",
       "24386896  1999     1  2020      2   27  22:24   $54.00   Chip Transaction   \n",
       "24386897  1999     1  2020      2   28  07:43   $59.15   Chip Transaction   \n",
       "24386898  1999     1  2020      2   28  20:10   $43.12   Chip Transaction   \n",
       "24386899  1999     1  2020      2   28  23:10   $45.13   Chip Transaction   \n",
       "\n",
       "                Merchant Name  Merchant City Merchant State      Zip   MCC  \\\n",
       "0         3527213246127876953       La Verne             CA  91750.0  5300   \n",
       "1         -727612092139916043  Monterey Park             CA  91754.0  5411   \n",
       "2         -727612092139916043  Monterey Park             CA  91754.0  5411   \n",
       "3         3414527459579106770  Monterey Park             CA  91754.0  5651   \n",
       "4         5817218446178736267       La Verne             CA  91750.0  5912   \n",
       "...                       ...            ...            ...      ...   ...   \n",
       "24386895 -5162038175624867091      Merrimack             NH   3054.0  5541   \n",
       "24386896 -5162038175624867091      Merrimack             NH   3054.0  5541   \n",
       "24386897  2500998799892805156      Merrimack             NH   3054.0  4121   \n",
       "24386898  2500998799892805156      Merrimack             NH   3054.0  4121   \n",
       "24386899  4751695835751691036      Merrimack             NH   3054.0  5814   \n",
       "\n",
       "         Errors? Is Fraud?  \n",
       "0            NaN        No  \n",
       "1            NaN        No  \n",
       "2            NaN        No  \n",
       "3            NaN        No  \n",
       "4            NaN        No  \n",
       "...          ...       ...  \n",
       "24386895     NaN        No  \n",
       "24386896     NaN        No  \n",
       "24386897     NaN        No  \n",
       "24386898     NaN        No  \n",
       "24386899     NaN        No  \n",
       "\n",
       "[24386900 rows x 15 columns]"
      ]
     },
     "execution_count": 4,
     "metadata": {},
     "output_type": "execute_result"
    }
   ],
   "source": [
    "data"
   ]
  },
  {
   "cell_type": "code",
   "execution_count": 51,
   "metadata": {},
   "outputs": [
    {
     "data": {
      "text/plain": [
       "(17397216, 3412698, 3576986)"
      ]
     },
     "execution_count": 51,
     "metadata": {},
     "output_type": "execute_result"
    }
   ],
   "source": [
    "len(train_data), len(valid_data), len(test_data)"
   ]
  },
  {
   "cell_type": "code",
   "execution_count": 52,
   "metadata": {},
   "outputs": [
    {
     "data": {
      "text/plain": [
       "(1400, 300, 300)"
      ]
     },
     "execution_count": 52,
     "metadata": {},
     "output_type": "execute_result"
    }
   ],
   "source": [
    "len(train_data['User'].unique()), len(valid_data['User'].unique()), len(test_data['User'].unique())"
   ]
  },
  {
   "cell_type": "markdown",
   "metadata": {},
   "source": [
    "## Как использовать BatchNorm в RNN сети"
   ]
  },
  {
   "cell_type": "markdown",
   "metadata": {},
   "source": [
    "1. Создаем класс, который наследуюется от BatchNorm"
   ]
  },
  {
   "cell_type": "code",
   "execution_count": null,
   "metadata": {},
   "outputs": [],
   "source": [
    "class PackedSequenceBatchNorm1d(torch.nn.BatchNorm1d):\n",
    "    def forward(self, x):\n",
    "\n",
    "        return torch.nn.utils.rnn.PackedSequence(\n",
    "            data=super().forward(x.data),\n",
    "            batch_sizes=x.batch_sizes,\n",
    "            sorted_indices=x.sorted_indices\n",
    "        )"
   ]
  },
  {
   "cell_type": "markdown",
   "metadata": {},
   "source": [
    "2. В конструктуре создаем объект данного класса"
   ]
  },
  {
   "cell_type": "code",
   "execution_count": null,
   "metadata": {},
   "outputs": [],
   "source": [
    "self.feature_bn = PackedSequenceBatchNorm1d(num_features=self.nrof_features)"
   ]
  },
  {
   "cell_type": "markdown",
   "metadata": {},
   "source": [
    "3. Вызываем его в forward с учетом padding последовательности транзакций"
   ]
  },
  {
   "cell_type": "code",
   "execution_count": null,
   "metadata": {},
   "outputs": [],
   "source": [
    "n_output_features = nn.utils.rnn.pack_padded_sequence(output_features.to(self.device), origin_nrof_trans,\n",
    "                                                enforce_sorted=False, batch_first=True)\n",
    "bn_output_features = self.feature_bn(bn_output_features)\n",
    "bn_output_features, _ = nn.utils.rnn.pad_packed_sequence(bn_output_features, batch_first=True)"
   ]
  }
 ],
 "metadata": {
  "kernelspec": {
   "display_name": "Python 3",
   "language": "python",
   "name": "python3"
  },
  "language_info": {
   "codemirror_mode": {
    "name": "ipython",
    "version": 3.0
   },
   "file_extension": ".py",
   "mimetype": "text/x-python",
   "name": "python",
   "nbconvert_exporter": "python",
   "pygments_lexer": "ipython3",
   "version": "3.6.6"
  }
 },
 "nbformat": 4,
 "nbformat_minor": 0
}