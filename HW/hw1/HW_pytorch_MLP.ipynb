{
 "cells": [
  {
   "cell_type": "markdown",
   "metadata": {},
   "source": [
    "# Домашнее задание."
   ]
  },
  {
   "cell_type": "markdown",
   "metadata": {},
   "source": [
    "Нужно обучить нейронную сеть, точность классификация должна быть не меньше 64%. Как это можно получить:\n",
    "\n",
    "1. Посмотрите на данные, характеристики.\n",
    "2. Попробуйте менять гиперпараметры сети.\n",
    "3. Обратите внимание на саму архитектуру сети.\n",
    "4. Сделайте подсчет точности на валидационной выборке не через DataLoader."
   ]
  },
  {
   "cell_type": "markdown",
   "metadata": {},
   "source": [
    "## GitHub"
   ]
  },
  {
   "cell_type": "markdown",
   "metadata": {},
   "source": [
    "1. Создайте private репозиторий на GitHub \n",
    "2. Сделайте push кода в удаленный репозиторий\n",
    "3. Добавьте Firyuza и solovyshka в качестве reviewers"
   ]
  }
 ],
 "metadata": {
  "kernelspec": {
   "display_name": "Python 3",
   "language": "python",
   "name": "python3"
  },
  "language_info": {
   "codemirror_mode": {
    "name": "ipython",
    "version": 3.0
   },
   "file_extension": ".py",
   "mimetype": "text/x-python",
   "name": "python",
   "nbconvert_exporter": "python",
   "pygments_lexer": "ipython3",
   "version": "3.8.5"
  }
 },
 "nbformat": 4,
 "nbformat_minor": 0
}