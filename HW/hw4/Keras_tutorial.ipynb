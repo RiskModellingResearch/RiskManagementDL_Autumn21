{
 "cells": [
  {
   "cell_type": "markdown",
   "metadata": {},
   "source": [
    "## Keras\n",
    "\n",
    "Keras это высокоуровневая обертка над tensorflow. Но в текущих реализациях библиотеке tf они живут очень рядом. \n",
    "Когда мы собираем свои нейронки мы берем уже готовые слои из keras и добавляем что-то свое, если нам требуется.\n",
    "Но keras можно использовать без явного использования TF пытаясь свести задачу к fit-predict.\n"
   ]
  },
  {
   "cell_type": "markdown",
   "metadata": {},
   "source": [
    "### Sequential\n",
    "Самое простое, что мы можем сделать это собирать слои последовательно друг за другом - займеся же этим!"
   ]
  },
  {
   "cell_type": "code",
   "execution_count": 1,
   "metadata": {},
   "outputs": [],
   "source": [
    "from sklearn.model_selection import train_test_split\n",
    "\n",
    "import tensorflow as tf\n",
    "from tensorflow.keras import Sequential, layers as L # подгружаем нужные модули. \n",
    "import tensorflow.keras as keras"
   ]
  },
  {
   "cell_type": "code",
   "execution_count": 2,
   "metadata": {},
   "outputs": [],
   "source": [
    "# в keras лежит несколько наборов данных. Для примера возьмем fashion_mnist - как mnist, но про предметы одежды :)\n",
    "fashion_mnist = tf.keras.datasets.fashion_mnist\n",
    "\n",
    "(X_train, y_train), (X_test, y_test) = fashion_mnist.load_data()\n",
    "\n",
    "X_train, X_val, y_train, y_val = train_test_split(X_train, y_train, test_size=10**4, random_state=42)\n",
    "\n",
    "X_train = X_train/ 255.\n",
    "X_val = X_val/ 255.\n",
    "X_test = X_test/ 255.\n",
    "\n",
    "class_names = ['T-shirt/top', 'Trouser', 'Pullover', 'Dress', 'Coat',\n",
    "               'Sandal', 'Shirt', 'Sneaker', 'Bag', 'Ankle boot']"
   ]
  },
  {
   "cell_type": "code",
   "execution_count": 3,
   "metadata": {},
   "outputs": [],
   "source": [
    "# для того, чтобы учить через cross_entropy нам нужно сделать OHE таргетам. И эта функция есть в keras!\n",
    "from tensorflow.keras.utils import to_categorical\n",
    "\n",
    "y_train_ohe = to_categorical(y_train)\n",
    "y_test_ohe = to_categorical(y_test)\n",
    "y_val_ohe = to_categorical(y_val)\n"
   ]
  },
  {
   "cell_type": "code",
   "execution_count": 5,
   "metadata": {
    "scrolled": true
   },
   "outputs": [
    {
     "name": "stdout",
     "output_type": "stream",
     "text": [
      "Epoch 1/2\n",
      "100/100 [==============================] - 2s 11ms/step - loss: 2.1116 - categorical_accuracy: 0.3111 - val_loss: 1.4741 - val_categorical_accuracy: 0.6431\n",
      "Epoch 2/2\n",
      "100/100 [==============================] - 1s 6ms/step - loss: 1.3174 - categorical_accuracy: 0.6553 - val_loss: 1.0262 - val_categorical_accuracy: 0.6838\n"
     ]
    }
   ],
   "source": [
    "## Первая простая нейронка\n",
    "\n",
    "tf.random.set_seed(42) # фиксируем random_seed\n",
    "\n",
    "model = Sequential(name = 'first_try')\n",
    "model.add(L.Input(shape = (28,28))) # входной нейрон с данными. Его обычно можно опускать, сразу передавая \n",
    "# в нейрон размерность. Но Dense ячейки не умеют работать с картинками, поэтому оставляем Input\n",
    "model.add(L.Flatten()) # разворачиваем картинку в вектор\n",
    "model.add(L.Dense(100,  kernel_initializer='random_normal',name='First')) \n",
    "# можно именовать и потом брать слои по именам\n",
    "model.add(L.ReLU()) # добавляем активацию\n",
    "model.add(L.Dense(10, kernel_initializer = 'random_normal',name='Output'))\n",
    "model.add(L.Softmax())\n",
    "opt = keras.optimizers.Adam(learning_rate=1e-4) # так же нам нужно указать оптимайзер\n",
    "model.compile(optimizer=opt,loss='categorical_crossentropy',\n",
    "             metrics=[\"categorical_accuracy\"]) # и собрать нашу модель, указав метрики,loss и оптимизатор\n",
    "\n",
    "\n",
    "history1 = model.fit(X_train,y_train_ohe,batch_size=500,epochs=2,validation_data = (X_val,y_val_ohe))\n",
    "# и процесс обучения. Задаем количество эпох, размер батча и валидационную часть наших данных\n"
   ]
  },
  {
   "cell_type": "code",
   "execution_count": 6,
   "metadata": {},
   "outputs": [
    {
     "data": {
      "text/plain": [
       "{'verbose': 1, 'epochs': 2, 'steps': 100}"
      ]
     },
     "execution_count": 6,
     "metadata": {},
     "output_type": "execute_result"
    }
   ],
   "source": [
    "history1.params"
   ]
  },
  {
   "cell_type": "code",
   "execution_count": 7,
   "metadata": {
    "scrolled": true
   },
   "outputs": [
    {
     "data": {
      "text/plain": [
       "{'loss': [1.8980991840362549, 1.2028253078460693],\n",
       " 'categorical_accuracy': [0.4696600139141083, 0.6652799844741821],\n",
       " 'val_loss': [1.4740629196166992, 1.0262092351913452],\n",
       " 'val_categorical_accuracy': [0.6431000232696533, 0.6837999820709229]}"
      ]
     },
     "execution_count": 7,
     "metadata": {},
     "output_type": "execute_result"
    }
   ],
   "source": [
    "history1.history"
   ]
  },
  {
   "cell_type": "code",
   "execution_count": 7,
   "metadata": {},
   "outputs": [
    {
     "name": "stdout",
     "output_type": "stream",
     "text": [
      "Train on 50000 samples, validate on 10000 samples\n",
      "Epoch 1/2\n",
      "50000/50000 [==============================] - 1s 15us/sample - loss: 1.8141 - categorical_accuracy: 0.4979 - val_loss: 1.3973 - val_categorical_accuracy: 0.6449\n",
      "Epoch 2/2\n",
      "50000/50000 [==============================] - 0s 8us/sample - loss: 1.1440 - categorical_accuracy: 0.6720 - val_loss: 0.9782 - val_categorical_accuracy: 0.6839\n"
     ]
    }
   ],
   "source": [
    "# Эту же модель можно записать чуть в меньшее количество строчек кода\n",
    "model = Sequential(name = 'first_try')\n",
    "model.add(L.Input(shape = (28,28))) \n",
    "model.add(L.Flatten()) \n",
    "model.add(L.Dense(100,  kernel_initializer='random_normal',name='First',activation='relu')) \n",
    "# можно именовать и потом брать слои по именам\n",
    "model.add(L.Dense(10, kernel_initializer = 'random_normal',name='Output',activation='softmax'))\n",
    "opt = keras.optimizers.Adam(learning_rate=1e-4) \n",
    "model.compile(optimizer=opt,loss='categorical_crossentropy',\n",
    "             metrics=[\"categorical_accuracy\"]) \n",
    "\n",
    "history1 = model.fit(X_train,y_train_ohe,batch_size=500,epochs=2,validation_data = (X_val,y_val_ohe))\n"
   ]
  },
  {
   "cell_type": "code",
   "execution_count": 9,
   "metadata": {},
   "outputs": [],
   "source": [
    "# ?L.Dense"
   ]
  },
  {
   "cell_type": "markdown",
   "metadata": {},
   "source": [
    "Из приятного - все в таком подходе можно кастомизировать под себя!\n",
    "Но пока продолжим рассмотрение о следующем подходе сборки моделей.\n",
    "Класс Sequential не дает нам вообще никакой гибкости, позволяя набирать слои только последовательно.\n",
    "Что же у нас есть новый герой  - Model.\n",
    "Он позволяет собирать сетки практически любой архитектуры"
   ]
  },
  {
   "cell_type": "code",
   "execution_count": 10,
   "metadata": {},
   "outputs": [],
   "source": [
    "from tensorflow.keras import Model  # подгружаем нужные модули. "
   ]
  },
  {
   "cell_type": "code",
   "execution_count": 11,
   "metadata": {},
   "outputs": [],
   "source": [
    "init = 'uniform'\n",
    "act = 'relu'\n",
    "\n",
    "input_tensor = L.Input(shape=(28, 28)) # задаем вход\n",
    "x = L.Flatten()(input_tensor)# применение нейрона к входу\n",
    "x = L.Dense(100, kernel_initializer=init, activation=act)(x) # повторяем всю логику сколько нам надо\n",
    "x = L.Dense(100, kernel_initializer=init, activation=act)(x)\n",
    "output_tensor = L.Dense(10, kernel_initializer=init, activation='softmax')(x)\n",
    "\n",
    "model = keras.Model(input_tensor, output_tensor) # Keras под копотом сам собирает граф.\n",
    "# Если он может получить из входа выхода то вы великолепны.\n",
    "\n",
    "model.compile(optimizer=opt,loss='categorical_crossentropy',\n",
    "             metrics=[\"categorical_accuracy\"]) "
   ]
  },
  {
   "cell_type": "code",
   "execution_count": 12,
   "metadata": {},
   "outputs": [
    {
     "name": "stdout",
     "output_type": "stream",
     "text": [
      "Model: \"model\"\n",
      "_________________________________________________________________\n",
      "Layer (type)                 Output Shape              Param #   \n",
      "=================================================================\n",
      "input_2 (InputLayer)         [(None, 28, 28)]          0         \n",
      "_________________________________________________________________\n",
      "flatten_1 (Flatten)          (None, 784)               0         \n",
      "_________________________________________________________________\n",
      "dense (Dense)                (None, 100)               78500     \n",
      "_________________________________________________________________\n",
      "dense_1 (Dense)              (None, 100)               10100     \n",
      "_________________________________________________________________\n",
      "dense_2 (Dense)              (None, 10)                1010      \n",
      "=================================================================\n",
      "Total params: 89,610\n",
      "Trainable params: 89,610\n",
      "Non-trainable params: 0\n",
      "_________________________________________________________________\n"
     ]
    }
   ],
   "source": [
    "model.summary()"
   ]
  },
  {
   "cell_type": "code",
   "execution_count": 13,
   "metadata": {},
   "outputs": [
    {
     "name": "stdout",
     "output_type": "stream",
     "text": [
      "Epoch 1/2\n",
      "100/100 [==============================] - 1s 8ms/step - loss: 2.0566 - categorical_accuracy: 0.3674 - val_loss: 1.1507 - val_categorical_accuracy: 0.6225\n",
      "Epoch 2/2\n",
      "100/100 [==============================] - 1s 6ms/step - loss: 1.0285 - categorical_accuracy: 0.6415 - val_loss: 0.8508 - val_categorical_accuracy: 0.6740\n"
     ]
    }
   ],
   "source": [
    "history = model.fit(X_train,y_train_ohe,batch_size=500,epochs=2,validation_data = (X_val,y_val_ohe))"
   ]
  },
  {
   "cell_type": "markdown",
   "metadata": {},
   "source": [
    "Такой подход позволяет делать практически любой гибкости нейронки. Как пример - двухголовая!"
   ]
  },
  {
   "cell_type": "code",
   "execution_count": 14,
   "metadata": {},
   "outputs": [
    {
     "name": "stdout",
     "output_type": "stream",
     "text": [
      "Model: \"model_1\"\n",
      "__________________________________________________________________________________________________\n",
      "Layer (type)                    Output Shape         Param #     Connected to                     \n",
      "==================================================================================================\n",
      "input_3 (InputLayer)            [(None, 28, 28)]     0                                            \n",
      "__________________________________________________________________________________________________\n",
      "input_4 (InputLayer)            [(None, 28, 28)]     0                                            \n",
      "__________________________________________________________________________________________________\n",
      "flatten_2 (Flatten)             (None, 784)          0           input_3[0][0]                    \n",
      "__________________________________________________________________________________________________\n",
      "flatten_3 (Flatten)             (None, 784)          0           input_4[0][0]                    \n",
      "__________________________________________________________________________________________________\n",
      "dense_3 (Dense)                 (None, 100)          78500       flatten_2[0][0]                  \n",
      "__________________________________________________________________________________________________\n",
      "dense_5 (Dense)                 (None, 100)          78500       flatten_3[0][0]                  \n",
      "__________________________________________________________________________________________________\n",
      "dense_4 (Dense)                 (None, 100)          10100       dense_3[0][0]                    \n",
      "__________________________________________________________________________________________________\n",
      "dense_6 (Dense)                 (None, 100)          10100       dense_5[0][0]                    \n",
      "__________________________________________________________________________________________________\n",
      "concatenate (Concatenate)       (None, 200)          0           dense_4[0][0]                    \n",
      "                                                                 dense_6[0][0]                    \n",
      "__________________________________________________________________________________________________\n",
      "dense_7 (Dense)                 (None, 10)           2010        concatenate[0][0]                \n",
      "==================================================================================================\n",
      "Total params: 179,210\n",
      "Trainable params: 179,210\n",
      "Non-trainable params: 0\n",
      "__________________________________________________________________________________________________\n"
     ]
    }
   ],
   "source": [
    "input_1 = L.Input(shape=(28, 28))\n",
    "input_2 = L.Input(shape=(28, 28))\n",
    "\n",
    "x1 = L.Flatten()(input_1)\n",
    "x1 = L.Dense(100, kernel_initializer=init, activation=act)(x1)\n",
    "x1 = L.Dense(100, kernel_initializer=init, activation=act)(x1)\n",
    "\n",
    "x2 = L.Flatten()(input_2)\n",
    "x2 = L.Dense(100, kernel_initializer=init, activation=act)(x2)\n",
    "x2 = L.Dense(100, kernel_initializer=init, activation=act)(x2)\n",
    "\n",
    "x = L.concatenate([x1, x2]) # Волшебное слово, которое позволяет нам соеденять несколько потоков наших данных\n",
    "output = L.Dense(10, kernel_initializer=init, activation='softmax')(x)\n",
    "\n",
    "model = keras.Model([input_1, input_2], output)\n",
    "model.summary()"
   ]
  },
  {
   "cell_type": "code",
   "execution_count": 25,
   "metadata": {},
   "outputs": [],
   "source": [
    "model.compile(optimizer=opt,loss='categorical_crossentropy',\n",
    "             metrics=[\"categorical_accuracy\"]) "
   ]
  },
  {
   "cell_type": "code",
   "execution_count": 27,
   "metadata": {},
   "outputs": [
    {
     "name": "stdout",
     "output_type": "stream",
     "text": [
      "Train on 50000 samples, validate on 10000 samples\n",
      "Epoch 1/2\n",
      "50000/50000 [==============================] - 1s 22us/sample - loss: 1.3714 - categorical_accuracy: 0.6164 - val_loss: 0.8260 - val_categorical_accuracy: 0.6711\n",
      "Epoch 2/2\n",
      "50000/50000 [==============================] - 1s 14us/sample - loss: 0.7213 - categorical_accuracy: 0.7305 - val_loss: 0.6702 - val_categorical_accuracy: 0.7558\n"
     ]
    }
   ],
   "source": [
    "history = model.fit([X_train,X_train],y_train_ohe,batch_size=500,epochs=2,validation_data = ([X_val,X_val],y_val_ohe))"
   ]
  },
  {
   "cell_type": "code",
   "execution_count": 15,
   "metadata": {},
   "outputs": [],
   "source": [
    "# # нужно для винды, если не видит путь до graphviz\n",
    "# import os\n",
    "# os.environ[\"PATH\"] += os.pathsep + 'C:/Program Files (x86)/Graphviz2.38/bin/'\n",
    "from tensorflow.keras.utils import plot_model\n"
   ]
  },
  {
   "cell_type": "code",
   "execution_count": 16,
   "metadata": {},
   "outputs": [
    {
     "data": {
      "image/png": "[encoded data removed]",
      "text/plain": [
       "<IPython.core.display.Image object>"
      ]
     },
     "execution_count": 16,
     "metadata": {},
     "output_type": "execute_result"
    }
   ],
   "source": [
    "plot_model(model) # можно нарисовать модельку"
   ]
  },
  {
   "cell_type": "markdown",
   "metadata": {},
   "source": [
    "## 4.2 Несколько выходов и функций потерь"
   ]
  },
  {
   "cell_type": "code",
   "execution_count": 18,
   "metadata": {},
   "outputs": [
    {
     "name": "stdout",
     "output_type": "stream",
     "text": [
      "Model: \"model_3\"\n",
      "__________________________________________________________________________________________________\n",
      "Layer (type)                    Output Shape         Param #     Connected to                     \n",
      "==================================================================================================\n",
      "input_6 (InputLayer)            [(None, 28, 28)]     0                                            \n",
      "__________________________________________________________________________________________________\n",
      "flatten_5 (Flatten)             (None, 784)          0           input_6[0][0]                    \n",
      "__________________________________________________________________________________________________\n",
      "dense_11 (Dense)                (None, 100)          78500       flatten_5[0][0]                  \n",
      "__________________________________________________________________________________________________\n",
      "dense_12 (Dense)                (None, 100)          78500       flatten_5[0][0]                  \n",
      "__________________________________________________________________________________________________\n",
      "dense_13 (Dense)                (None, 100)          78500       flatten_5[0][0]                  \n",
      "__________________________________________________________________________________________________\n",
      "gender (Dense)                  (None, 1)            101         dense_11[0][0]                   \n",
      "__________________________________________________________________________________________________\n",
      "income (Dense)                  (None, 10)           1010        dense_12[0][0]                   \n",
      "__________________________________________________________________________________________________\n",
      "age (Dense)                     (None, 1)            101         dense_13[0][0]                   \n",
      "==================================================================================================\n",
      "Total params: 236,712\n",
      "Trainable params: 236,712\n",
      "Non-trainable params: 0\n",
      "__________________________________________________________________________________________________\n"
     ]
    }
   ],
   "source": [
    "init = 'uniform'\n",
    "act = 'relu'\n",
    "\n",
    "input_tensor = L.Input(shape=(28, 28))\n",
    "\n",
    "x = L.Flatten()(input_tensor)\n",
    "x1 = L.Dense(100, kernel_initializer=init, activation=act)(x)\n",
    "x2 = L.Dense(100, kernel_initializer=init, activation=act)(x)\n",
    "x3 = L.Dense(100, kernel_initializer=init, activation=act)(x)\n",
    "\n",
    "output_1 = L.Dense(1, kernel_initializer=init, activation='sigmoid',name='gender')(x1)\n",
    "output_2 = L.Dense(10, kernel_initializer=init, activation='softmax',name='income')(x2)\n",
    "output_3 = L.Dense(1, kernel_initializer=init,name='age')(x3)\n",
    "\n",
    "model = keras.Model(input_tensor, [output_1, output_2, output_3])\n",
    "\n",
    "model.summary()"
   ]
  },
  {
   "cell_type": "code",
   "execution_count": 19,
   "metadata": {},
   "outputs": [
    {
     "data": {
      "image/png": "[encoded data removed]",
      "text/plain": [
       "<IPython.core.display.Image object>"
      ]
     },
     "execution_count": 19,
     "metadata": {},
     "output_type": "execute_result"
    }
   ],
   "source": [
    "plot_model(model) # можно нарисовать модельку"
   ]
  },
  {
   "cell_type": "code",
   "execution_count": 21,
   "metadata": {},
   "outputs": [],
   "source": [
    "# чтобы модель не переобучилась под самую большую функцию потерь\n",
    "# их можно взвесить\n",
    "model.compile(optimizer='adam', loss=['mse', 'categorical_crossentropy', 'binary_crossentropy'],\n",
    "                                    loss_weights=[0.25, 1., 10.])\n",
    "\n",
    "\n",
    "# если дали выходам имена, можно вот так: \n",
    "\n",
    "model.compile(optimizer='adam',\n",
    "\n",
    "              loss={'age': 'mse',\n",
    "                    'income': 'categorical_crossentropy',\n",
    "                    'gender': 'binary_crossentropy'},\n",
    "                    \n",
    "              loss_weights={'age': 0.25,\n",
    "                            'income': 1.,\n",
    "                            'gender': 10.})"
   ]
  },
  {
   "cell_type": "markdown",
   "metadata": {},
   "source": [
    "Помните статью про то, как люди рисовали функции потерь? [Теперь появилась галерея!](https://losslandscape.com/gallery/) Есть подход как skip-connection, он сильно меняет нашу функцию.\n",
    "\n",
    "![](https://i.stack.imgur.com/UDvbg.png)\n",
    "\n",
    "Такую модель нельзя собрать через `Sequence`-стиль, но можно через функциональный стиль. Давайте попробуем сделать это. Заодно посмотрим насколько сильно в нашей ситуации будет меняться траектория обучения. (Сравним обычный 6-ти слойный персептрон и с прокидыванием инфы, например со 2 слоя на 5ый). Ну и также сразу поэксперементируем с функциями активаций и batchnorm."
   ]
  },
  {
   "cell_type": "markdown",
   "metadata": {},
   "source": [
    "# ДОМАШНЯЯ РАБОТА"
   ]
  },
  {
   "cell_type": "code",
   "execution_count": null,
   "metadata": {},
   "outputs": [],
   "source": [
    "### ╰( ͡° ͜ʖ ͡° )つ──☆*:・ﾟ  создайте сеть по инструкциям ниже\n",
    "tf.random.set_seed(42)\n",
    "## Соберите обычный 6ти слойный перспептрон\n",
    "\n"
   ]
  },
  {
   "cell_type": "code",
   "execution_count": null,
   "metadata": {},
   "outputs": [],
   "source": [
    "## Соберите обычный 6ти слойный перспептрон с функциями активации сигмоид\n"
   ]
  },
  {
   "cell_type": "code",
   "execution_count": null,
   "metadata": {},
   "outputs": [],
   "source": [
    "## Соберите с батчнормом и релу\n"
   ]
  },
  {
   "cell_type": "code",
   "execution_count": null,
   "metadata": {},
   "outputs": [],
   "source": [
    "## Соберите ну и наконец прокидывание данных\n"
   ]
  },
  {
   "cell_type": "code",
   "execution_count": 28,
   "metadata": {},
   "outputs": [],
   "source": [
    "# Функция для удобной отрисовки всего\n",
    "\n",
    "def plot_history(histories, key='loss', start=0):\n",
    "    plt.figure(figsize=(16,10))\n",
    "\n",
    "    for name, history in histories:\n",
    "        val = plt.plot(history.epoch[start:], history.history['val_'+key][start:],\n",
    "                       #'--', \n",
    "                       label=name.title()+' Val')\n",
    "            #plt.plot(history.epoch[start:], history.history[key][start:], color=val[0].get_color(),\n",
    "            #     label=name.title()+' Train')\n",
    "\n",
    "    plt.xlabel('Epochs')\n",
    "    plt.ylabel(key.replace('_',' ').title())\n",
    "    plt.legend()\n",
    "\n",
    "    plt.xlim([start, max(history.epoch)])\n"
   ]
  },
  {
   "cell_type": "code",
   "execution_count": null,
   "metadata": {},
   "outputs": [],
   "source": [
    "plot_history([('simple',    history_simple), \n",
    "              ('simple_sigmoid', history_simple_sigmoid),\n",
    "              ('simple_BN_and_init', history_simple_BN_and_init),\n",
    "              ('complex!!!',   history_complex)\n",
    "             ],\n",
    "             start=0)"
   ]
  },
  {
   "cell_type": "markdown",
   "metadata": {},
   "source": [
    "#### Более интересная часть - кастомизация\n",
    "В keras уже есть несколько удобных callback."
   ]
  },
  {
   "cell_type": "code",
   "execution_count": 20,
   "metadata": {},
   "outputs": [],
   "source": [
    "from tensorflow.keras.callbacks import EarlyStopping,LearningRateScheduler,ReduceLROnPlateau,ModelCheckpoint"
   ]
  },
  {
   "cell_type": "code",
   "execution_count": 31,
   "metadata": {},
   "outputs": [
    {
     "data": {
      "text/plain": [
       "tensorflow.python.keras.callbacks.ModelCheckpoint"
      ]
     },
     "execution_count": 31,
     "metadata": {},
     "output_type": "execute_result"
    }
   ],
   "source": [
    "EarlyStopping # останавливает обучение если наша метрика не меняет n эпох\n",
    "LearningRateScheduler # меняет наш learning_rate по расписанию\n",
    "ReduceLROnPlateau # понижает на LR если не происходит улучшения\n",
    "ModelCheckpoint # сохраняет нашу лучшую модель"
   ]
  },
  {
   "cell_type": "code",
   "execution_count": 21,
   "metadata": {},
   "outputs": [],
   "source": [
    "early_stop = EarlyStopping(patience=3)\n",
    "reduce_on_plateau = ReduceLROnPlateau(patience=3)\n",
    "# filepath=\"checkpoint_path/weights-improvement-{epoch:02d}-{val_categorical_accuracy:.2f}.hdf5\"\n",
    "filepath=\"checkpoint_path/weights-improvement.hdf5\"\n",
    "model_checkpoing = ModelCheckpoint(filepath,\n",
    "                                   save_best_only=True,\n",
    "                                  save_weights_only=True)"
   ]
  },
  {
   "cell_type": "code",
   "execution_count": 22,
   "metadata": {},
   "outputs": [],
   "source": [
    "def create_simple_model():\n",
    "    model = Sequential(name = 'simple_model')\n",
    "    model.add(L.Input(shape = (28,28))) \n",
    "    model.add(L.Flatten()) \n",
    "    model.add(L.Dense(100,  kernel_initializer='random_normal',name='First',activation='relu'))\n",
    "    model.add(L.Dense(100,  kernel_initializer='random_normal',name='Second',activation='relu'))\n",
    "    model.add(L.Dense(10, kernel_initializer = 'random_normal',name='Output',activation='softmax'))\n",
    "    opt = keras.optimizers.Adam(learning_rate=1e-4) \n",
    "    model.compile(optimizer=opt,loss='categorical_crossentropy',\n",
    "                 metrics=[\"categorical_accuracy\"]) \n",
    "    return model\n"
   ]
  },
  {
   "cell_type": "code",
   "execution_count": 24,
   "metadata": {},
   "outputs": [],
   "source": [
    "!mkdir checkpoint_path"
   ]
  },
  {
   "cell_type": "code",
   "execution_count": 25,
   "metadata": {
    "scrolled": true
   },
   "outputs": [],
   "source": [
    "\n",
    "model = create_simple_model()\n",
    "\n",
    "history = model.fit(X_train,y_train_ohe,batch_size=500,epochs=20,\n",
    "                     validation_data = (X_val,y_val_ohe),\n",
    "                    callbacks = [early_stop,reduce_on_plateau,model_checkpoing],verbose=0)\n"
   ]
  },
  {
   "cell_type": "code",
   "execution_count": 44,
   "metadata": {},
   "outputs": [],
   "source": [
    "model.load_weights('checkpoint_path/weights-improvement.hdf5')"
   ]
  },
  {
   "cell_type": "code",
   "execution_count": 26,
   "metadata": {
    "scrolled": true
   },
   "outputs": [],
   "source": [
    "filepath=\"checkpoint_path/full_model_improvement.hdf5\"\n",
    "model_checkpoing = ModelCheckpoint(filepath,\n",
    "                                   save_best_only=True,\n",
    "                                  save_weights_only=False)\n",
    "simple_model = create_simple_model()\n",
    "\n",
    "history = simple_model.fit(X_train,y_train_ohe,batch_size=500,epochs=20,\n",
    "                     validation_data = (X_val,y_val_ohe),\n",
    "                    callbacks = [early_stop,reduce_on_plateau,model_checkpoing],verbose=0)\n"
   ]
  },
  {
   "cell_type": "code",
   "execution_count": 27,
   "metadata": {},
   "outputs": [],
   "source": [
    "simple_model = keras.models.load_model(filepath)"
   ]
  },
  {
   "cell_type": "code",
   "execution_count": 28,
   "metadata": {},
   "outputs": [
    {
     "name": "stdout",
     "output_type": "stream",
     "text": [
      "313/313 [==============================] - 1s 1ms/step - loss: 0.4328 - categorical_accuracy: 0.8472\n"
     ]
    },
    {
     "data": {
      "text/plain": [
       "[0.4327818751335144, 0.8471999764442444]"
      ]
     },
     "execution_count": 28,
     "metadata": {},
     "output_type": "execute_result"
    }
   ],
   "source": [
    "simple_model.evaluate(x=X_val,y=y_val_ohe)"
   ]
  },
  {
   "cell_type": "code",
   "execution_count": 63,
   "metadata": {},
   "outputs": [],
   "source": [
    "from tensorflow.keras import callbacks\n",
    " \n",
    "class My_Callback(callbacks.Callback):     # Класс My_Callback унаследовал свойства класса Callback\n",
    "    def on_train_begin(self, logs={}):           # Функция, которая выполняется в начале обучения \n",
    "        return\n",
    " \n",
    "    def on_train_end(self, logs={}):             # Функция, которая выполняется в конце обучения \n",
    "        return\n",
    " \n",
    "    def on_epoch_begin(self, logs={}):           # В начале каждой эпохи \n",
    "        return\n",
    " \n",
    "    def on_epoch_end(self, epoch, logs={}): \n",
    "        # В конце каждой эпохи\n",
    "        return\n",
    " \n",
    "    def on_batch_begin(self, batch, logs={}):    # В начале батча\n",
    "        return\n",
    " \n",
    "    def on_batch_end(self, batch, logs={}):      # В конце батча \n",
    "        return"
   ]
  },
  {
   "cell_type": "code",
   "execution_count": 29,
   "metadata": {},
   "outputs": [],
   "source": [
    "from tensorflow.keras import callbacks\n",
    "\n",
    "class Printlogs(callbacks.Callback):\n",
    "\n",
    "    def on_epoch_end(self, epoch, logs):\n",
    "        if epoch==10:\n",
    "            print(logs)\n",
    "        "
   ]
  },
  {
   "cell_type": "code",
   "execution_count": 30,
   "metadata": {},
   "outputs": [],
   "source": [
    "simple_model = create_simple_model()\n",
    "our_callback = Printlogs()"
   ]
  },
  {
   "cell_type": "code",
   "execution_count": 31,
   "metadata": {},
   "outputs": [
    {
     "name": "stdout",
     "output_type": "stream",
     "text": [
      "{'loss': 0.4888562560081482, 'categorical_accuracy': 0.8313199877738953, 'val_loss': 0.5013513565063477, 'val_categorical_accuracy': 0.8269000053405762}\n"
     ]
    }
   ],
   "source": [
    "history = simple_model.fit(X_train,y_train_ohe,batch_size=500,epochs=20,\n",
    "                     validation_data = (X_val,y_val_ohe),\n",
    "                    callbacks = [our_callback],\n",
    "                           verbose=0)"
   ]
  },
  {
   "cell_type": "code",
   "execution_count": 32,
   "metadata": {},
   "outputs": [
    {
     "name": "stdout",
     "output_type": "stream",
     "text": [
      "0.10000000149011612\n",
      "0.05000000074505806\n",
      "0.02500000037252903\n",
      "0.012500000186264515\n",
      "0.0062500000931322575\n",
      "0.0031250000465661287\n",
      "0.0015625000232830644\n",
      "0.0007812500116415322\n",
      "0.0003906250058207661\n",
      "0.00019531250291038305\n",
      "9.765625145519152e-05\n",
      "4.882812572759576e-05\n",
      "2.441406286379788e-05\n",
      "1.220703143189894e-05\n",
      "6.10351571594947e-06\n",
      "3.051757857974735e-06\n",
      "1.5258789289873675e-06\n",
      "7.629394644936838e-07\n",
      "3.814697322468419e-07\n",
      "1.9073486612342094e-07\n"
     ]
    }
   ],
   "source": [
    "import numpy as np\n",
    "# Напишем изменение скорости обучения\n",
    "INIT_LR=0.1\n",
    "# Стратегия для понижения скорости\n",
    "def lr_scheduler(epoch):\n",
    "    drop = 0.5\n",
    "    epochs_drop = 1.0\n",
    "    lrate = INIT_LR * np.math.pow(drop, np.math.floor((epoch)/epochs_drop))\n",
    "    return lrate\n",
    "lrate = LearningRateScheduler(lr_scheduler)\n",
    "# класс чтобы отслеживать бесчинства\n",
    "class Print_lr(callbacks.Callback):\n",
    "    def on_epoch_end(self, epoch, logs):\n",
    "        print(float(tf.keras.backend.get_value(self.model.optimizer.lr)))\n",
    "        # чтобы установить свой LR надо указать\n",
    "        # LR_OUR = ....\n",
    "#         tf.keras.backend.set_value(self.model.optimizer.lr, LR_OUR)\n",
    "\n",
    "\n",
    "simple_model = create_simple_model()\n",
    "history = simple_model.fit(X_train,y_train_ohe,batch_size=500,epochs=20,\n",
    "                     validation_data = (X_val,y_val_ohe),\n",
    "                    callbacks = [lrate,Print_lr()],\n",
    "                           verbose=0)\n"
   ]
  },
  {
   "cell_type": "code",
   "execution_count": 40,
   "metadata": {},
   "outputs": [],
   "source": [
    "# Давайте заставим модель посчитать метрики каждую эпоху, как пример\n",
    "# Считать будем на X_val, y_val\n",
    "\n",
    "\n",
    "class OUR_CALLBACK(callbacks.Callback):\n",
    "    def __init__(self,X_val,y_val):\n",
    "        super(callbacks.Callback).__init__()\n",
    "        self.X_val = X_val\n",
    "        self.y_val = y_val\n",
    "    def on_epoch_end(self, epoch, logs):\n",
    "        self.preds = self.model.predict(X_val)\n",
    "        self.metrics_value = tf.reduce_mean(tf.keras.metrics.categorical_crossentropy(y_val_ohe,\n",
    "                                                                                      self.preds )).numpy()\n",
    "        print(self.metrics_value)\n",
    "        \n",
    "        # чтобы установить свой LR надо указать\n",
    "        # LR_OUR = ....\n",
    "#         tf.keras.backend.set_value(self.model.optimizer.lr, LR_OUR)"
   ]
  },
  {
   "cell_type": "code",
   "execution_count": 41,
   "metadata": {},
   "outputs": [],
   "source": [
    "our_callback = OUR_CALLBACK(X_val,y_val)"
   ]
  },
  {
   "cell_type": "code",
   "execution_count": 42,
   "metadata": {},
   "outputs": [
    {
     "name": "stdout",
     "output_type": "stream",
     "text": [
      "1.5499213\n",
      "0.9714457\n",
      "0.7887423\n",
      "0.6969125\n",
      "0.63916534\n",
      "0.5977321\n",
      "0.568815\n",
      "0.5447291\n",
      "0.5252664\n",
      "0.51107293\n",
      "0.49687314\n",
      "0.48725587\n",
      "0.47686234\n",
      "0.4683497\n",
      "0.46307877\n",
      "0.4561717\n",
      "0.44980127\n",
      "0.44555038\n",
      "0.44013345\n",
      "0.43474877\n"
     ]
    }
   ],
   "source": [
    "simple_model = create_simple_model()\n",
    "history = simple_model.fit(X_train,y_train_ohe,batch_size=500,epochs=20,\n",
    "                     validation_data = (X_val,y_val_ohe),\n",
    "                    callbacks = [our_callback],\n",
    "                           verbose=0)"
   ]
  },
  {
   "cell_type": "code",
   "execution_count": 34,
   "metadata": {},
   "outputs": [
    {
     "data": {
      "text/plain": [
       "<tf.Tensor: shape=(10000, 10), dtype=float32, numpy=\n",
       "array([[0.09976298, 0.09998395, 0.09995144, ..., 0.10121609, 0.10007522,\n",
       "        0.09990481],\n",
       "       [0.09976298, 0.09998395, 0.09995144, ..., 0.10121609, 0.10007522,\n",
       "        0.09990481],\n",
       "       [0.09976298, 0.09998395, 0.09995144, ..., 0.10121609, 0.10007522,\n",
       "        0.09990481],\n",
       "       ...,\n",
       "       [0.09976298, 0.09998395, 0.09995144, ..., 0.10121609, 0.10007522,\n",
       "        0.09990481],\n",
       "       [0.09976298, 0.09998395, 0.09995144, ..., 0.10121609, 0.10007522,\n",
       "        0.09990481],\n",
       "       [0.09976298, 0.09998395, 0.09995144, ..., 0.10121609, 0.10007522,\n",
       "        0.09990481]], dtype=float32)>"
      ]
     },
     "execution_count": 34,
     "metadata": {},
     "output_type": "execute_result"
    }
   ],
   "source": []
  },
  {
   "cell_type": "markdown",
   "metadata": {},
   "source": [
    "### Кастомные loss и метрики\n",
    "Что уже есть\n",
    "https://keras.io/api/metrics/\n",
    "\n",
    "https://keras.io/api/losses/"
   ]
  },
  {
   "cell_type": "code",
   "execution_count": 43,
   "metadata": {},
   "outputs": [],
   "source": [
    "celsius    = np.array([-40, -10,  0,  8, 15, 22,  38],  dtype=float)\n",
    "fahrenheit = np.array([-40,  14, 32, 46, 59, 72, 100],  dtype=float)"
   ]
  },
  {
   "cell_type": "code",
   "execution_count": 44,
   "metadata": {},
   "outputs": [
    {
     "name": "stdout",
     "output_type": "stream",
     "text": [
      "Epoch 1/3\n",
      "1/1 [==============================] - 0s 229ms/step - loss: 2647.7888\n",
      "Epoch 2/3\n",
      "1/1 [==============================] - 0s 10ms/step - loss: 2645.7793\n",
      "Epoch 3/3\n",
      "1/1 [==============================] - 0s 11ms/step - loss: 2643.7717\n"
     ]
    },
    {
     "data": {
      "text/plain": [
       "<tensorflow.python.keras.callbacks.History at 0x13e812828>"
      ]
     },
     "execution_count": 44,
     "metadata": {},
     "output_type": "execute_result"
    }
   ],
   "source": [
    "\n",
    "\n",
    "model = Sequential()\n",
    "model.add(L.Dense(1))\n",
    "\n",
    "opt = tf.keras.optimizers.Adam( )\n",
    "\n",
    "model.compile(loss='mse', optimizer=opt)\n",
    "model.fit(celsius, fahrenheit,  epochs=3, verbose=1)\n",
    "\n"
   ]
  },
  {
   "cell_type": "code",
   "execution_count": 45,
   "metadata": {},
   "outputs": [],
   "source": [
    "def custom_loss_function(y_true, y_pred):\n",
    "    squared_difference = tf.square(y_true - y_pred)\n",
    "    return tf.reduce_mean(squared_difference, axis=-1)"
   ]
  },
  {
   "cell_type": "code",
   "execution_count": 46,
   "metadata": {},
   "outputs": [
    {
     "name": "stdout",
     "output_type": "stream",
     "text": [
      "Epoch 1/3\n",
      "1/1 [==============================] - 0s 301ms/step - loss: 2484.2773\n",
      "Epoch 2/3\n",
      "1/1 [==============================] - 0s 6ms/step - loss: 2482.3665\n",
      "Epoch 3/3\n",
      "1/1 [==============================] - 0s 3ms/step - loss: 2480.4568\n",
      "CPU times: user 335 ms, sys: 11.3 ms, total: 347 ms\n",
      "Wall time: 477 ms\n"
     ]
    },
    {
     "data": {
      "text/plain": [
       "<tensorflow.python.keras.callbacks.History at 0x13d9b10b8>"
      ]
     },
     "execution_count": 46,
     "metadata": {},
     "output_type": "execute_result"
    }
   ],
   "source": [
    "%%time\n",
    "model = Sequential()\n",
    "model.add(L.Dense(1))\n",
    "\n",
    "opt = tf.keras.optimizers.Adam( )\n",
    "\n",
    "model.compile(loss=custom_loss_function, optimizer=opt)\n",
    "model.fit(celsius, fahrenheit,  epochs=3,verbose=1)\n",
    "\n"
   ]
  },
  {
   "cell_type": "code",
   "execution_count": 97,
   "metadata": {},
   "outputs": [],
   "source": [
    "## тоже самое можно делать и с метриками. Также можно следить сразу за несколькими метриками, что бывает полезно.\n",
    "## Если хотим добавить совсем сложную логику то мы это будем делать через callback"
   ]
  },
  {
   "cell_type": "markdown",
   "metadata": {},
   "source": [
    "В этой тетрадке немного поработаем с градусами по цельсию и фаренгейту! Снова попробуем восстановить формулу \n",
    "\n",
    "$$ f = c \\times 1.8 + 32 $$"
   ]
  },
  {
   "cell_type": "code",
   "execution_count": 54,
   "metadata": {},
   "outputs": [
    {
     "data": {
      "text/plain": [
       "<tensorflow.python.keras.callbacks.History at 0x14379ccf8>"
      ]
     },
     "execution_count": 54,
     "metadata": {},
     "output_type": "execute_result"
    }
   ],
   "source": [
    "## возьмем срезы\n",
    "tf.keras.backend.set_floatx('float64')\n",
    "model = Sequential()\n",
    "model.add(L.Dense(1,name='our_neural'))\n",
    "\n",
    "opt = tf.keras.optimizers.Adam(0.1 )\n",
    "\n",
    "model.compile(loss='mse', optimizer=opt)\n",
    "model.fit(celsius, fahrenheit,  epochs=600, verbose=0)\n",
    "\n"
   ]
  },
  {
   "cell_type": "code",
   "execution_count": 52,
   "metadata": {},
   "outputs": [
    {
     "data": {
      "text/plain": [
       "[<tf.Variable 'our_neural/kernel:0' shape=(1, 1) dtype=float64, numpy=array([[-1.20632126]])>,\n",
       " <tf.Variable 'our_neural/bias:0' shape=(1,) dtype=float64, numpy=array([0.09979228])>]"
      ]
     },
     "execution_count": 52,
     "metadata": {},
     "output_type": "execute_result"
    }
   ],
   "source": [
    "## элементарная задача, но из-за того, что данные не скалированы сходились вечность\n",
    "our_layer = model.get_layer(name='our_neural')\n",
    "our_layer.variables"
   ]
  },
  {
   "cell_type": "code",
   "execution_count": 61,
   "metadata": {},
   "outputs": [
    {
     "data": {
      "text/plain": [
       "False"
      ]
     },
     "execution_count": 61,
     "metadata": {},
     "output_type": "execute_result"
    }
   ],
   "source": [
    "1-1.8/our_layer.variables[0].numpy()[0][0]<0.05"
   ]
  },
  {
   "cell_type": "code",
   "execution_count": 73,
   "metadata": {},
   "outputs": [],
   "source": [
    "class OUR_CALLBACK(callbacks.Callback):\n",
    "    epsilon = 0.05\n",
    "    k = 1.8\n",
    "    stop = True\n",
    "    \n",
    "    # взять вес из модели который отвечает за наклон\n",
    "    # сравнить его с эталоном\n",
    "    # записать точку остановки\n",
    "\n",
    "    def on_epoch_end(self, epoch, logs):\n",
    "        our_k = self.model.get_layer(name='our_neural').variables[0].numpy()[0][0]\n",
    "        if abs(1-self.k/our_k)<self.epsilon and self.stop:\n",
    "            self.end_learning = epoch\n",
    "            self.final_k = our_k\n",
    "            self.stop = False\n",
    "        \n"
   ]
  },
  {
   "cell_type": "code",
   "execution_count": 76,
   "metadata": {},
   "outputs": [
    {
     "data": {
      "text/plain": [
       "<tensorflow.python.keras.callbacks.History at 0x13e33dcc0>"
      ]
     },
     "execution_count": 76,
     "metadata": {},
     "output_type": "execute_result"
    }
   ],
   "source": [
    "our_call_1 = OUR_CALLBACK()\n",
    "our_call_2 = OUR_CALLBACK()\n",
    "## возьмем срезы\n",
    "tf.keras.backend.set_floatx('float64')\n",
    "model = Sequential()\n",
    "model.add(L.Dense(1,name='our_neural'))\n",
    "\n",
    "opt = tf.keras.optimizers.Adam(0.01 )\n",
    "\n",
    "model.compile(loss='mse', optimizer=opt)\n",
    "model.fit(celsius, fahrenheit,  epochs=600, verbose=0,callbacks = [our_call_1])"
   ]
  },
  {
   "cell_type": "code",
   "execution_count": 77,
   "metadata": {},
   "outputs": [
    {
     "data": {
      "text/plain": [
       "424"
      ]
     },
     "execution_count": 77,
     "metadata": {},
     "output_type": "execute_result"
    }
   ],
   "source": [
    "our_call_1.end_learning"
   ]
  },
  {
   "cell_type": "code",
   "execution_count": 78,
   "metadata": {},
   "outputs": [
    {
     "data": {
      "text/plain": [
       "<tensorflow.python.keras.callbacks.History at 0x13fa12940>"
      ]
     },
     "execution_count": 78,
     "metadata": {},
     "output_type": "execute_result"
    }
   ],
   "source": [
    "model = Sequential()\n",
    "model.add(L.BatchNormalization())\n",
    "model.add(L.Dense(1,name='our_neural'))\n",
    "\n",
    "opt = tf.keras.optimizers.Adam(0.01 )\n",
    "\n",
    "model.compile(loss='mse', optimizer=opt)\n",
    "model.fit(celsius, fahrenheit,  epochs=600, verbose=0,callbacks = [our_call_2])"
   ]
  },
  {
   "cell_type": "code",
   "execution_count": 79,
   "metadata": {},
   "outputs": [
    {
     "data": {
      "text/plain": [
       "1"
      ]
     },
     "execution_count": 79,
     "metadata": {},
     "output_type": "execute_result"
    }
   ],
   "source": [
    "our_call_2.end_learning"
   ]
  },
  {
   "cell_type": "code",
   "execution_count": 80,
   "metadata": {},
   "outputs": [
    {
     "data": {
      "text/plain": [
       "1.7143402792814162"
      ]
     },
     "execution_count": 80,
     "metadata": {},
     "output_type": "execute_result"
    }
   ],
   "source": [
    "our_call_2.final_k\n"
   ]
  },
  {
   "cell_type": "markdown",
   "metadata": {},
   "source": [
    " Есть понимание, как взять определить в callback на какой эпохе мы получили правильное значение весов? Проверить как ведет себя наша нейронка? (с учетом того, что мы точно знаем формулу)\n",
    " Ну и заодно быстро проверить гипотезу - а поможет ли нам batchnorm в данной ситуации?"
   ]
  },
  {
   "cell_type": "markdown",
   "metadata": {},
   "source": [
    "### Пишем класс нейронки с TF и keras вместе"
   ]
  },
  {
   "cell_type": "code",
   "execution_count": 84,
   "metadata": {},
   "outputs": [],
   "source": [
    "# транспонировали выборку\n",
    "x_train = celsius[:,None]\n",
    "y_train = fahrenheit[:,None]"
   ]
  },
  {
   "cell_type": "code",
   "execution_count": 85,
   "metadata": {},
   "outputs": [],
   "source": [
    "tf.keras.backend.set_floatx('float64')\n",
    "class Super_puper_neural_net(Model):\n",
    "    \n",
    "    def __init__(self, n_hidden_neurons):\n",
    "        super(Super_puper_neural_net, self).__init__()\n",
    "        self.fc1 = L.Dense(n_hidden_neurons, kernel_initializer='glorot_uniform',\n",
    "                           activation='relu', trainable=True)\n",
    "        self.fc2 = L.Dense(n_hidden_neurons, kernel_initializer='glorot_uniform',\n",
    "                           trainable=True)\n",
    "\n",
    "    def encode(self, x):\n",
    "        x = self.fc1(x)\n",
    "        x = self.fc2(x)\n",
    "        return x"
   ]
  },
  {
   "cell_type": "code",
   "execution_count": 86,
   "metadata": {},
   "outputs": [
    {
     "data": {
      "text/plain": [
       "<tf.Tensor: shape=(7, 1), dtype=float64, numpy=\n",
       "array([[-55.31015518],\n",
       "       [-13.82753879],\n",
       "       [  0.        ],\n",
       "       [  0.        ],\n",
       "       [  0.        ],\n",
       "       [  0.        ],\n",
       "       [  0.        ]])>"
      ]
     },
     "execution_count": 86,
     "metadata": {},
     "output_type": "execute_result"
    }
   ],
   "source": [
    "model_super = Super_puper_neural_net(1)\n",
    "model_super.encode(x_train)"
   ]
  },
  {
   "cell_type": "code",
   "execution_count": 87,
   "metadata": {},
   "outputs": [],
   "source": [
    "# Ошибка для модели\n",
    "def mean_square(y_pred, y_true):\n",
    "    return tf.reduce_mean((y_pred-y_true)**2)\n",
    "\n",
    "# оптимизатор \n",
    "optimizer = tf.optimizers.SGD(learning_rate=0.001)\n",
    "\n",
    "# процесс оптимизации\n",
    "def model_train(X, Y):\n",
    "\n",
    "    # находим loss и пробрасываем градиент\n",
    "    with tf.GradientTape() as g:\n",
    "        pred = model_super.encode(X)\n",
    "        loss = mean_square(pred, Y)\n",
    "\n",
    "    # Вычисляем градиенты\n",
    "    gradients = g.gradient(loss, model_super.variables)\n",
    "    \n",
    "    # Обновляем веса a и b в ходе одной итерации спуска \n",
    "    optimizer.apply_gradients(zip(gradients, model_super.variables))"
   ]
  },
  {
   "cell_type": "code",
   "execution_count": 88,
   "metadata": {},
   "outputs": [
    {
     "name": "stdout",
     "output_type": "stream",
     "text": [
      "step: 0, loss: 3187.690399\n",
      "step: 100, loss: 2440.972459\n",
      "step: 200, loss: 1900.325985\n",
      "step: 300, loss: 1506.957985\n",
      "step: 400, loss: 1220.888690\n",
      "step: 500, loss: 1012.712312\n",
      "step: 600, loss: 860.934831\n",
      "step: 700, loss: 749.990604\n",
      "step: 800, loss: 668.662791\n",
      "step: 900, loss: 608.853036\n"
     ]
    }
   ],
   "source": [
    "#Обучение\n",
    "epochs = 1000 # число эпох \n",
    "\n",
    "for i in range(epochs):\n",
    "    \n",
    "    # Делаем щаг градиентного спуска \n",
    "    model_train(x_train, y_train)\n",
    "    \n",
    "    # Каждую сотую итерацию следим за тем, что произошло\n",
    "    if i%100 == 0:\n",
    "        y_pred = model_super.encode(x_train)\n",
    "        loss_val = mean_square(y_pred, y_train)\n",
    "        print(\"step: %i, loss: %f\" % (i, loss_val))"
   ]
  },
  {
   "cell_type": "markdown",
   "metadata": {},
   "source": [
    "#  Свой слой на Tensorflow для Keras\n",
    "\n",
    "Новые слои можно писать на основе керасовского класса `Layer`. Если прописать `help(tf.keras.layers.Layer)`, можно почитать про него. Если в кратце, нужно реализовать три части: \n",
    "\n",
    "* Конструктор, в нём мы описываем гиперпараметры \n",
    "* Метод `build`, в которм мы описываем все переменные \n",
    "* Метод `call`, который делает forward pass"
   ]
  },
  {
   "cell_type": "code",
   "execution_count": 89,
   "metadata": {},
   "outputs": [],
   "source": [
    "class MyLinear(L.Layer):\n",
    "    \n",
    "    # Задаём консруктор \n",
    "    def __init__(self, units=32):\n",
    "        super(MyLinear, self).__init__()  # чтобы коректно унаследовались методы\n",
    "        self.units = units                # число нейронов\n",
    "\n",
    "    def build(self, input_shape):\n",
    "        # add_weight внутри build то же самое что и Variable, но совместимо с Keras\n",
    "        self.w = self.add_weight(shape=(input_shape[-1], self.units),\n",
    "                                 initializer='random_normal', \n",
    "                                 trainable=True)\n",
    "        \n",
    "        self.b = self.add_weight(shape=(self.units,),\n",
    "                                 initializer='random_normal', \n",
    "                                 trainable=True)\n",
    "\n",
    "    # Применение \n",
    "    def call(self, inputs):\n",
    "        # сразу делаем и линейное преобразование и ReLU (а почему бы и нет)\n",
    "        return tf.nn.relu(tf.matmul(inputs, self.w) + self.b) "
   ]
  },
  {
   "cell_type": "code",
   "execution_count": 90,
   "metadata": {},
   "outputs": [],
   "source": [
    "model_custom = Sequential(name = 'simple_model')\n",
    "model_custom.add(L.Input(shape = (28,28))) \n",
    "model_custom.add(L.Flatten()) \n",
    "model_custom.add(L.Dense(100,  kernel_initializer='random_normal',name='First',activation='relu'))\n",
    "model_custom.add(MyLinear()) ### Самый красивый слой\n",
    "model_custom.add(L.Dense(10, kernel_initializer = 'random_normal',name='Output',activation='softmax'))\n",
    "opt = keras.optimizers.Adam(learning_rate=1e-4) \n",
    "model_custom.compile(optimizer=opt,loss='categorical_crossentropy',\n",
    "             metrics=[\"categorical_accuracy\"]) "
   ]
  },
  {
   "cell_type": "code",
   "execution_count": 91,
   "metadata": {},
   "outputs": [
    {
     "name": "stdout",
     "output_type": "stream",
     "text": [
      "Epoch 1/20\n",
      "100/100 [==============================] - 2s 14ms/step - loss: 2.2599 - categorical_accuracy: 0.1313 - val_loss: 2.0041 - val_categorical_accuracy: 0.4077\n",
      "Epoch 2/20\n",
      "100/100 [==============================] - 2s 20ms/step - loss: 1.8391 - categorical_accuracy: 0.4962 - val_loss: 1.3459 - val_categorical_accuracy: 0.6340\n",
      "Epoch 3/20\n",
      "100/100 [==============================] - 1s 14ms/step - loss: 1.2288 - categorical_accuracy: 0.6503 - val_loss: 0.9923 - val_categorical_accuracy: 0.6633\n",
      "Epoch 4/20\n",
      "100/100 [==============================] - 1s 14ms/step - loss: 0.9406 - categorical_accuracy: 0.6690 - val_loss: 0.8501 - val_categorical_accuracy: 0.6849\n",
      "Epoch 5/20\n",
      " 99/100 [============================>.] - ETA: 0s - loss: 0.8150 - categorical_accuracy: 0.6957"
     ]
    },
    {
     "ename": "KeyboardInterrupt",
     "evalue": "",
     "output_type": "error",
     "traceback": [
      "\u001b[0;31m---------------------------------------------------------------------------\u001b[0m",
      "\u001b[0;31mKeyboardInterrupt\u001b[0m                         Traceback (most recent call last)",
      "\u001b[0;32m<ipython-input-91-2c19b3f9afe5>\u001b[0m in \u001b[0;36m<module>\u001b[0;34m\u001b[0m\n\u001b[1;32m      1\u001b[0m history = model_custom.fit(X_train,y_train_ohe,batch_size=500,epochs=20,\n\u001b[1;32m      2\u001b[0m                      \u001b[0mvalidation_data\u001b[0m \u001b[0;34m=\u001b[0m \u001b[0;34m(\u001b[0m\u001b[0mX_val\u001b[0m\u001b[0;34m,\u001b[0m\u001b[0my_val_ohe\u001b[0m\u001b[0;34m)\u001b[0m\u001b[0;34m,\u001b[0m\u001b[0;34m\u001b[0m\u001b[0;34m\u001b[0m\u001b[0m\n\u001b[0;32m----> 3\u001b[0;31m                     callbacks = [early_stop,reduce_on_plateau],verbose=1)\n\u001b[0m",
      "\u001b[0;32m//anaconda3/lib/python3.7/site-packages/tensorflow/python/keras/engine/training.py\u001b[0m in \u001b[0;36mfit\u001b[0;34m(self, x, y, batch_size, epochs, verbose, callbacks, validation_split, validation_data, shuffle, class_weight, sample_weight, initial_epoch, steps_per_epoch, validation_steps, validation_batch_size, validation_freq, max_queue_size, workers, use_multiprocessing)\u001b[0m\n\u001b[1;32m   1139\u001b[0m               \u001b[0mworkers\u001b[0m\u001b[0;34m=\u001b[0m\u001b[0mworkers\u001b[0m\u001b[0;34m,\u001b[0m\u001b[0;34m\u001b[0m\u001b[0;34m\u001b[0m\u001b[0m\n\u001b[1;32m   1140\u001b[0m               \u001b[0muse_multiprocessing\u001b[0m\u001b[0;34m=\u001b[0m\u001b[0muse_multiprocessing\u001b[0m\u001b[0;34m,\u001b[0m\u001b[0;34m\u001b[0m\u001b[0;34m\u001b[0m\u001b[0m\n\u001b[0;32m-> 1141\u001b[0;31m               return_dict=True)\n\u001b[0m\u001b[1;32m   1142\u001b[0m           \u001b[0mval_logs\u001b[0m \u001b[0;34m=\u001b[0m \u001b[0;34m{\u001b[0m\u001b[0;34m'val_'\u001b[0m \u001b[0;34m+\u001b[0m \u001b[0mname\u001b[0m\u001b[0;34m:\u001b[0m \u001b[0mval\u001b[0m \u001b[0;32mfor\u001b[0m \u001b[0mname\u001b[0m\u001b[0;34m,\u001b[0m \u001b[0mval\u001b[0m \u001b[0;32min\u001b[0m \u001b[0mval_logs\u001b[0m\u001b[0;34m.\u001b[0m\u001b[0mitems\u001b[0m\u001b[0;34m(\u001b[0m\u001b[0;34m)\u001b[0m\u001b[0;34m}\u001b[0m\u001b[0;34m\u001b[0m\u001b[0;34m\u001b[0m\u001b[0m\n\u001b[1;32m   1143\u001b[0m           \u001b[0mepoch_logs\u001b[0m\u001b[0;34m.\u001b[0m\u001b[0mupdate\u001b[0m\u001b[0;34m(\u001b[0m\u001b[0mval_logs\u001b[0m\u001b[0;34m)\u001b[0m\u001b[0;34m\u001b[0m\u001b[0;34m\u001b[0m\u001b[0m\n",
      "\u001b[0;32m//anaconda3/lib/python3.7/site-packages/tensorflow/python/keras/engine/training.py\u001b[0m in \u001b[0;36mevaluate\u001b[0;34m(self, x, y, batch_size, verbose, sample_weight, steps, callbacks, max_queue_size, workers, use_multiprocessing, return_dict)\u001b[0m\n\u001b[1;32m   1347\u001b[0m       \u001b[0;31m# Use cached evaluation data only when it's called in `Model.fit`\u001b[0m\u001b[0;34m\u001b[0m\u001b[0;34m\u001b[0m\u001b[0;34m\u001b[0m\u001b[0m\n\u001b[1;32m   1348\u001b[0m       if (getattr(self, '_fit_frame', None) is not None\n\u001b[0;32m-> 1349\u001b[0;31m           \u001b[0;32mand\u001b[0m \u001b[0mtf_inspect\u001b[0m\u001b[0;34m.\u001b[0m\u001b[0mcurrentframe\u001b[0m\u001b[0;34m(\u001b[0m\u001b[0;34m)\u001b[0m\u001b[0;34m.\u001b[0m\u001b[0mf_back\u001b[0m \u001b[0;32mis\u001b[0m \u001b[0mself\u001b[0m\u001b[0;34m.\u001b[0m\u001b[0m_fit_frame\u001b[0m\u001b[0;34m\u001b[0m\u001b[0;34m\u001b[0m\u001b[0m\n\u001b[0m\u001b[1;32m   1350\u001b[0m           and getattr(self, '_eval_data_handler', None) is not None):\n\u001b[1;32m   1351\u001b[0m         \u001b[0mdata_handler\u001b[0m \u001b[0;34m=\u001b[0m \u001b[0mself\u001b[0m\u001b[0;34m.\u001b[0m\u001b[0m_eval_data_handler\u001b[0m\u001b[0;34m\u001b[0m\u001b[0;34m\u001b[0m\u001b[0m\n",
      "\u001b[0;32m//anaconda3/lib/python3.7/site-packages/tensorflow/python/keras/utils/tf_inspect.py\u001b[0m in \u001b[0;36mcurrentframe\u001b[0;34m()\u001b[0m\n\u001b[1;32m     93\u001b[0m \u001b[0;32mdef\u001b[0m \u001b[0mcurrentframe\u001b[0m\u001b[0;34m(\u001b[0m\u001b[0;34m)\u001b[0m\u001b[0;34m:\u001b[0m\u001b[0;34m\u001b[0m\u001b[0;34m\u001b[0m\u001b[0m\n\u001b[1;32m     94\u001b[0m   \u001b[0;34m\"\"\"TFDecorator-aware replacement for inspect.currentframe.\"\"\"\u001b[0m\u001b[0;34m\u001b[0m\u001b[0;34m\u001b[0m\u001b[0m\n\u001b[0;32m---> 95\u001b[0;31m   \u001b[0;32mreturn\u001b[0m \u001b[0m_inspect\u001b[0m\u001b[0;34m.\u001b[0m\u001b[0mstack\u001b[0m\u001b[0;34m(\u001b[0m\u001b[0;34m)\u001b[0m\u001b[0;34m[\u001b[0m\u001b[0;36m1\u001b[0m\u001b[0;34m]\u001b[0m\u001b[0;34m[\u001b[0m\u001b[0;36m0\u001b[0m\u001b[0;34m]\u001b[0m\u001b[0;34m\u001b[0m\u001b[0;34m\u001b[0m\u001b[0m\n\u001b[0m\u001b[1;32m     96\u001b[0m \u001b[0;34m\u001b[0m\u001b[0m\n\u001b[1;32m     97\u001b[0m \u001b[0;34m\u001b[0m\u001b[0m\n",
      "\u001b[0;32m//anaconda3/lib/python3.7/inspect.py\u001b[0m in \u001b[0;36mstack\u001b[0;34m(context)\u001b[0m\n\u001b[1;32m   1511\u001b[0m \u001b[0;32mdef\u001b[0m \u001b[0mstack\u001b[0m\u001b[0;34m(\u001b[0m\u001b[0mcontext\u001b[0m\u001b[0;34m=\u001b[0m\u001b[0;36m1\u001b[0m\u001b[0;34m)\u001b[0m\u001b[0;34m:\u001b[0m\u001b[0;34m\u001b[0m\u001b[0;34m\u001b[0m\u001b[0m\n\u001b[1;32m   1512\u001b[0m     \u001b[0;34m\"\"\"Return a list of records for the stack above the caller's frame.\"\"\"\u001b[0m\u001b[0;34m\u001b[0m\u001b[0;34m\u001b[0m\u001b[0m\n\u001b[0;32m-> 1513\u001b[0;31m     \u001b[0;32mreturn\u001b[0m \u001b[0mgetouterframes\u001b[0m\u001b[0;34m(\u001b[0m\u001b[0msys\u001b[0m\u001b[0;34m.\u001b[0m\u001b[0m_getframe\u001b[0m\u001b[0;34m(\u001b[0m\u001b[0;36m1\u001b[0m\u001b[0;34m)\u001b[0m\u001b[0;34m,\u001b[0m \u001b[0mcontext\u001b[0m\u001b[0;34m)\u001b[0m\u001b[0;34m\u001b[0m\u001b[0;34m\u001b[0m\u001b[0m\n\u001b[0m\u001b[1;32m   1514\u001b[0m \u001b[0;34m\u001b[0m\u001b[0m\n\u001b[1;32m   1515\u001b[0m \u001b[0;32mdef\u001b[0m \u001b[0mtrace\u001b[0m\u001b[0;34m(\u001b[0m\u001b[0mcontext\u001b[0m\u001b[0;34m=\u001b[0m\u001b[0;36m1\u001b[0m\u001b[0;34m)\u001b[0m\u001b[0;34m:\u001b[0m\u001b[0;34m\u001b[0m\u001b[0;34m\u001b[0m\u001b[0m\n",
      "\u001b[0;32m//anaconda3/lib/python3.7/inspect.py\u001b[0m in \u001b[0;36mgetouterframes\u001b[0;34m(frame, context)\u001b[0m\n\u001b[1;32m   1488\u001b[0m     \u001b[0mframelist\u001b[0m \u001b[0;34m=\u001b[0m \u001b[0;34m[\u001b[0m\u001b[0;34m]\u001b[0m\u001b[0;34m\u001b[0m\u001b[0;34m\u001b[0m\u001b[0m\n\u001b[1;32m   1489\u001b[0m     \u001b[0;32mwhile\u001b[0m \u001b[0mframe\u001b[0m\u001b[0;34m:\u001b[0m\u001b[0;34m\u001b[0m\u001b[0;34m\u001b[0m\u001b[0m\n\u001b[0;32m-> 1490\u001b[0;31m         \u001b[0mframeinfo\u001b[0m \u001b[0;34m=\u001b[0m \u001b[0;34m(\u001b[0m\u001b[0mframe\u001b[0m\u001b[0;34m,\u001b[0m\u001b[0;34m)\u001b[0m \u001b[0;34m+\u001b[0m \u001b[0mgetframeinfo\u001b[0m\u001b[0;34m(\u001b[0m\u001b[0mframe\u001b[0m\u001b[0;34m,\u001b[0m \u001b[0mcontext\u001b[0m\u001b[0;34m)\u001b[0m\u001b[0;34m\u001b[0m\u001b[0;34m\u001b[0m\u001b[0m\n\u001b[0m\u001b[1;32m   1491\u001b[0m         \u001b[0mframelist\u001b[0m\u001b[0;34m.\u001b[0m\u001b[0mappend\u001b[0m\u001b[0;34m(\u001b[0m\u001b[0mFrameInfo\u001b[0m\u001b[0;34m(\u001b[0m\u001b[0;34m*\u001b[0m\u001b[0mframeinfo\u001b[0m\u001b[0;34m)\u001b[0m\u001b[0;34m)\u001b[0m\u001b[0;34m\u001b[0m\u001b[0;34m\u001b[0m\u001b[0m\n\u001b[1;32m   1492\u001b[0m         \u001b[0mframe\u001b[0m \u001b[0;34m=\u001b[0m \u001b[0mframe\u001b[0m\u001b[0;34m.\u001b[0m\u001b[0mf_back\u001b[0m\u001b[0;34m\u001b[0m\u001b[0;34m\u001b[0m\u001b[0m\n",
      "\u001b[0;32m//anaconda3/lib/python3.7/inspect.py\u001b[0m in \u001b[0;36mgetframeinfo\u001b[0;34m(frame, context)\u001b[0m\n\u001b[1;32m   1462\u001b[0m         \u001b[0mstart\u001b[0m \u001b[0;34m=\u001b[0m \u001b[0mlineno\u001b[0m \u001b[0;34m-\u001b[0m \u001b[0;36m1\u001b[0m \u001b[0;34m-\u001b[0m \u001b[0mcontext\u001b[0m\u001b[0;34m//\u001b[0m\u001b[0;36m2\u001b[0m\u001b[0;34m\u001b[0m\u001b[0;34m\u001b[0m\u001b[0m\n\u001b[1;32m   1463\u001b[0m         \u001b[0;32mtry\u001b[0m\u001b[0;34m:\u001b[0m\u001b[0;34m\u001b[0m\u001b[0;34m\u001b[0m\u001b[0m\n\u001b[0;32m-> 1464\u001b[0;31m             \u001b[0mlines\u001b[0m\u001b[0;34m,\u001b[0m \u001b[0mlnum\u001b[0m \u001b[0;34m=\u001b[0m \u001b[0mfindsource\u001b[0m\u001b[0;34m(\u001b[0m\u001b[0mframe\u001b[0m\u001b[0;34m)\u001b[0m\u001b[0;34m\u001b[0m\u001b[0;34m\u001b[0m\u001b[0m\n\u001b[0m\u001b[1;32m   1465\u001b[0m         \u001b[0;32mexcept\u001b[0m \u001b[0mOSError\u001b[0m\u001b[0;34m:\u001b[0m\u001b[0;34m\u001b[0m\u001b[0;34m\u001b[0m\u001b[0m\n\u001b[1;32m   1466\u001b[0m             \u001b[0mlines\u001b[0m \u001b[0;34m=\u001b[0m \u001b[0mindex\u001b[0m \u001b[0;34m=\u001b[0m \u001b[0;32mNone\u001b[0m\u001b[0;34m\u001b[0m\u001b[0;34m\u001b[0m\u001b[0m\n",
      "\u001b[0;32m//anaconda3/lib/python3.7/inspect.py\u001b[0m in \u001b[0;36mfindsource\u001b[0;34m(object)\u001b[0m\n\u001b[1;32m    766\u001b[0m     is raised if the source code cannot be retrieved.\"\"\"\n\u001b[1;32m    767\u001b[0m \u001b[0;34m\u001b[0m\u001b[0m\n\u001b[0;32m--> 768\u001b[0;31m     \u001b[0mfile\u001b[0m \u001b[0;34m=\u001b[0m \u001b[0mgetsourcefile\u001b[0m\u001b[0;34m(\u001b[0m\u001b[0mobject\u001b[0m\u001b[0;34m)\u001b[0m\u001b[0;34m\u001b[0m\u001b[0;34m\u001b[0m\u001b[0m\n\u001b[0m\u001b[1;32m    769\u001b[0m     \u001b[0;32mif\u001b[0m \u001b[0mfile\u001b[0m\u001b[0;34m:\u001b[0m\u001b[0;34m\u001b[0m\u001b[0;34m\u001b[0m\u001b[0m\n\u001b[1;32m    770\u001b[0m         \u001b[0;31m# Invalidate cache if needed.\u001b[0m\u001b[0;34m\u001b[0m\u001b[0;34m\u001b[0m\u001b[0;34m\u001b[0m\u001b[0m\n",
      "\u001b[0;32m//anaconda3/lib/python3.7/inspect.py\u001b[0m in \u001b[0;36mgetsourcefile\u001b[0;34m(object)\u001b[0m\n\u001b[1;32m    694\u001b[0m         \u001b[0;32mreturn\u001b[0m \u001b[0mfilename\u001b[0m\u001b[0;34m\u001b[0m\u001b[0;34m\u001b[0m\u001b[0m\n\u001b[1;32m    695\u001b[0m     \u001b[0;31m# only return a non-existent filename if the module has a PEP 302 loader\u001b[0m\u001b[0;34m\u001b[0m\u001b[0;34m\u001b[0m\u001b[0;34m\u001b[0m\u001b[0m\n\u001b[0;32m--> 696\u001b[0;31m     \u001b[0;32mif\u001b[0m \u001b[0mgetattr\u001b[0m\u001b[0;34m(\u001b[0m\u001b[0mgetmodule\u001b[0m\u001b[0;34m(\u001b[0m\u001b[0mobject\u001b[0m\u001b[0;34m,\u001b[0m \u001b[0mfilename\u001b[0m\u001b[0;34m)\u001b[0m\u001b[0;34m,\u001b[0m \u001b[0;34m'__loader__'\u001b[0m\u001b[0;34m,\u001b[0m \u001b[0;32mNone\u001b[0m\u001b[0;34m)\u001b[0m \u001b[0;32mis\u001b[0m \u001b[0;32mnot\u001b[0m \u001b[0;32mNone\u001b[0m\u001b[0;34m:\u001b[0m\u001b[0;34m\u001b[0m\u001b[0;34m\u001b[0m\u001b[0m\n\u001b[0m\u001b[1;32m    697\u001b[0m         \u001b[0;32mreturn\u001b[0m \u001b[0mfilename\u001b[0m\u001b[0;34m\u001b[0m\u001b[0;34m\u001b[0m\u001b[0m\n\u001b[1;32m    698\u001b[0m     \u001b[0;31m# or it is in the linecache\u001b[0m\u001b[0;34m\u001b[0m\u001b[0;34m\u001b[0m\u001b[0;34m\u001b[0m\u001b[0m\n",
      "\u001b[0;32m//anaconda3/lib/python3.7/inspect.py\u001b[0m in \u001b[0;36mgetmodule\u001b[0;34m(object, _filename)\u001b[0m\n\u001b[1;32m    731\u001b[0m     \u001b[0;31m# Copy sys.modules in order to cope with changes while iterating\u001b[0m\u001b[0;34m\u001b[0m\u001b[0;34m\u001b[0m\u001b[0;34m\u001b[0m\u001b[0m\n\u001b[1;32m    732\u001b[0m     \u001b[0;32mfor\u001b[0m \u001b[0mmodname\u001b[0m\u001b[0;34m,\u001b[0m \u001b[0mmodule\u001b[0m \u001b[0;32min\u001b[0m \u001b[0mlist\u001b[0m\u001b[0;34m(\u001b[0m\u001b[0msys\u001b[0m\u001b[0;34m.\u001b[0m\u001b[0mmodules\u001b[0m\u001b[0;34m.\u001b[0m\u001b[0mitems\u001b[0m\u001b[0;34m(\u001b[0m\u001b[0;34m)\u001b[0m\u001b[0;34m)\u001b[0m\u001b[0;34m:\u001b[0m\u001b[0;34m\u001b[0m\u001b[0;34m\u001b[0m\u001b[0m\n\u001b[0;32m--> 733\u001b[0;31m         \u001b[0;32mif\u001b[0m \u001b[0mismodule\u001b[0m\u001b[0;34m(\u001b[0m\u001b[0mmodule\u001b[0m\u001b[0;34m)\u001b[0m \u001b[0;32mand\u001b[0m \u001b[0mhasattr\u001b[0m\u001b[0;34m(\u001b[0m\u001b[0mmodule\u001b[0m\u001b[0;34m,\u001b[0m \u001b[0;34m'__file__'\u001b[0m\u001b[0;34m)\u001b[0m\u001b[0;34m:\u001b[0m\u001b[0;34m\u001b[0m\u001b[0;34m\u001b[0m\u001b[0m\n\u001b[0m\u001b[1;32m    734\u001b[0m             \u001b[0mf\u001b[0m \u001b[0;34m=\u001b[0m \u001b[0mmodule\u001b[0m\u001b[0;34m.\u001b[0m\u001b[0m__file__\u001b[0m\u001b[0;34m\u001b[0m\u001b[0;34m\u001b[0m\u001b[0m\n\u001b[1;32m    735\u001b[0m             \u001b[0;32mif\u001b[0m \u001b[0mf\u001b[0m \u001b[0;34m==\u001b[0m \u001b[0m_filesbymodname\u001b[0m\u001b[0;34m.\u001b[0m\u001b[0mget\u001b[0m\u001b[0;34m(\u001b[0m\u001b[0mmodname\u001b[0m\u001b[0;34m,\u001b[0m \u001b[0;32mNone\u001b[0m\u001b[0;34m)\u001b[0m\u001b[0;34m:\u001b[0m\u001b[0;34m\u001b[0m\u001b[0;34m\u001b[0m\u001b[0m\n",
      "\u001b[0;31mKeyboardInterrupt\u001b[0m: "
     ]
    }
   ],
   "source": [
    "history = model_custom.fit(X_train,y_train_ohe,batch_size=500,epochs=20,\n",
    "                     validation_data = (X_val,y_val_ohe),\n",
    "                    callbacks = [early_stop,reduce_on_plateau],verbose=1)"
   ]
  },
  {
   "cell_type": "markdown",
   "metadata": {},
   "source": [
    "Ну и нам остался пример, как взять срез модели. Посмотреть прогнозы в середине"
   ]
  },
  {
   "cell_type": "code",
   "execution_count": 92,
   "metadata": {},
   "outputs": [],
   "source": [
    "model = create_simple_model()"
   ]
  },
  {
   "cell_type": "code",
   "execution_count": 93,
   "metadata": {},
   "outputs": [],
   "source": [
    "history = model.fit(X_train,y_train_ohe,batch_size=500,epochs=2,\n",
    "                     validation_data = (X_val,y_val_ohe),\n",
    "                    callbacks = [early_stop,reduce_on_plateau],\n",
    "                    verbose=0)"
   ]
  },
  {
   "cell_type": "code",
   "execution_count": 96,
   "metadata": {},
   "outputs": [],
   "source": [
    "# Извлекаем выходы верхних 2х слоев\n",
    "layer_outputs = [layer.output for layer in model.layers[1:3]]\n",
    "# создаем модель, которая вернет эти выходы с учетом заданнаго входа\n",
    "activation_model = Model(inputs=model.input, outputs=layer_outputs)"
   ]
  },
  {
   "cell_type": "code",
   "execution_count": 97,
   "metadata": {},
   "outputs": [],
   "source": [
    "prediction = activation_model.predict(X_val)"
   ]
  },
  {
   "cell_type": "code",
   "execution_count": 98,
   "metadata": {},
   "outputs": [
    {
     "data": {
      "text/plain": [
       "[array([[0.        , 2.52057938, 2.03022137, ..., 3.46804267, 1.66923585,\n",
       "         0.32420523],\n",
       "        [0.        , 2.71963826, 3.77863323, ..., 5.2213157 , 2.32319305,\n",
       "         0.82812111],\n",
       "        [0.        , 0.17530519, 1.16666834, ..., 1.32758663, 0.57634235,\n",
       "         0.98208474],\n",
       "        ...,\n",
       "        [0.68593367, 0.16844777, 3.3376519 , ..., 3.26800414, 0.93104842,\n",
       "         2.55722205],\n",
       "        [0.        , 0.424081  , 0.69965351, ..., 1.52195783, 1.2289849 ,\n",
       "         0.32914628],\n",
       "        [0.        , 0.63446403, 0.93785711, ..., 1.56402728, 1.04581079,\n",
       "         0.61464389]]),\n",
       " array([[1.84184644, 2.65285621, 0.        , ..., 1.62022067, 2.40639992,\n",
       "         1.64356481],\n",
       "        [2.37863523, 3.78292393, 0.        , ..., 2.6392072 , 2.40677351,\n",
       "         2.28114652],\n",
       "        [1.78270517, 0.        , 0.        , ..., 2.76649408, 2.05550782,\n",
       "         1.49545054],\n",
       "        ...,\n",
       "        [0.        , 2.96540156, 0.        , ..., 1.99297134, 2.49300338,\n",
       "         0.85358657],\n",
       "        [2.00905696, 0.16652252, 0.        , ..., 2.12820448, 1.8592666 ,\n",
       "         1.52932805],\n",
       "        [2.10270075, 0.15826887, 0.        , ..., 2.4301787 , 1.76971753,\n",
       "         1.70095522]])]"
      ]
     },
     "execution_count": 98,
     "metadata": {},
     "output_type": "execute_result"
    }
   ],
   "source": [
    "prediction"
   ]
  },
  {
   "cell_type": "code",
   "execution_count": 174,
   "metadata": {},
   "outputs": [
    {
     "data": {
      "text/plain": [
       "[<tf.Tensor 'First_31/Identity:0' shape=(None, 100) dtype=float64>,\n",
       " <tf.Tensor 'Second_29/Identity:0' shape=(None, 100) dtype=float64>]"
      ]
     },
     "execution_count": 174,
     "metadata": {},
     "output_type": "execute_result"
    }
   ],
   "source": [
    "layer_outputs"
   ]
  },
  {
   "cell_type": "markdown",
   "metadata": {},
   "source": [
    " Что сегодня не вошло - как переопределить градиенты для своих слоев (на уровне keras очень геморойно, если уже занимаетесь этим то вряд ли пишете на верхнеуровневом фраемворке)\n",
    "Как работать с уже готовыми и обучеными моделями, дофичивать нейронки по кусочкам. Но это уже в следующих сериях :)\n",
    "\n"
   ]
  },
  {
   "cell_type": "code",
   "execution_count": null,
   "metadata": {},
   "outputs": [],
   "source": []
  },
  {
   "cell_type": "code",
   "execution_count": null,
   "metadata": {},
   "outputs": [],
   "source": []
  },
  {
   "cell_type": "code",
   "execution_count": null,
   "metadata": {},
   "outputs": [],
   "source": []
  },
  {
   "cell_type": "code",
   "execution_count": null,
   "metadata": {},
   "outputs": [],
   "source": []
  }
 ],
 "metadata": {
  "kernelspec": {
   "display_name": "Python 3",
   "language": "python",
   "name": "python3"
  },
  "language_info": {
   "codemirror_mode": {
    "name": "ipython",
    "version": 3
   },
   "file_extension": ".py",
   "mimetype": "text/x-python",
   "name": "python",
   "nbconvert_exporter": "python",
   "pygments_lexer": "ipython3",
   "version": "3.7.3"
  }
 },
 "nbformat": 4,
 "nbformat_minor": 4
}
