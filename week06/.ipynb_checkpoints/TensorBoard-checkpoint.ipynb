{
 "cells": [
  {
   "cell_type": "markdown",
   "metadata": {},
   "source": [
    "https://pytorch.org/tutorials/intermediate/tensorboard_tutorial.html"
   ]
  },
  {
   "cell_type": "code",
   "execution_count": null,
   "metadata": {},
   "outputs": [],
   "source": [
    "pip install tensorboard==1.14.0"
   ]
  },
  {
   "cell_type": "code",
   "execution_count": null,
   "metadata": {},
   "outputs": [],
   "source": [
    "from torch.utils.tensorboard import SummaryWriter"
   ]
  },
  {
   "cell_type": "markdown",
   "metadata": {},
   "source": [
    "Необходимо создать объект __SummaryWriter__, с помощью которого будет осуществлятьс логирование. "
   ]
  },
  {
   "cell_type": "code",
   "execution_count": null,
   "metadata": {},
   "outputs": [],
   "source": [
    "train_writer = SummaryWriter('./logs/train')"
   ]
  },
  {
   "cell_type": "code",
   "execution_count": null,
   "metadata": {},
   "outputs": [],
   "source": [
    "valid_writer = SummaryWriter('./logs/valid')"
   ]
  },
  {
   "cell_type": "code",
   "execution_count": null,
   "metadata": {},
   "outputs": [],
   "source": [
    "tensorboard --logdir=путь_до_папки_с_логами <- запускать в консоли"
   ]
  },
  {
   "cell_type": "markdown",
   "metadata": {},
   "source": [
    "1. Добавление __скаляров__, например точности, значение целевой функции"
   ]
  },
  {
   "cell_type": "code",
   "execution_count": null,
   "metadata": {},
   "outputs": [],
   "source": [
    "for t in range(500):\n",
    "    output = model(x)\n",
    "\n",
    "    loss = loss_fn(output, label)\n",
    "    acc = accuracy(output, label)\n",
    "    \n",
    "    train_writer.add_scalar('CrossEntropyLoss', loss, step)\n",
    "    train_writer.add_scalar('Accuracy', acc, step)"
   ]
  },
  {
   "cell_type": "markdown",
   "metadata": {},
   "source": [
    "2. Добавление несколько скаляров"
   ]
  },
  {
   "cell_type": "code",
   "execution_count": null,
   "metadata": {},
   "outputs": [],
   "source": [
    "train_writer.add_scalars('run_14h', {'xsinx':i*np.sin(i/r),\n",
    "                               'xcosx':i*np.cos(i/r),\n",
    "                               'tanx': np.tan(i/r)}, i)"
   ]
  },
  {
   "cell_type": "markdown",
   "metadata": {},
   "source": [
    "3. Добавление гистограммы, например, для обучаемых параметров, чтобы видеть как меняются их значения по ходу обучения"
   ]
  },
  {
   "cell_type": "code",
   "execution_count": null,
   "metadata": {},
   "outputs": [],
   "source": [
    "train_writer.add_histogram('hidden_layer', model.linear1.weight.data, step)"
   ]
  },
  {
   "cell_type": "code",
   "execution_count": null,
   "metadata": {},
   "outputs": [],
   "source": [
    "4. train_writer.add_image('my_image_HWC', img_HWC, step, dataformats='HWC')\n",
    "5. train_writer.add_figure('Confusion_matrix', figure_from_matplotlib, step)\n",
    "6. train_writer.add_text('Hidden_size', hidden_size, step)\n",
    "7. train_writer.add_graph(model, input_tensor)"
   ]
  },
  {
   "cell_type": "markdown",
   "metadata": {},
   "source": [
    "<img src=\"./images/tensorboard1.png\" alt=\"Drawing\" />"
   ]
  },
  {
   "cell_type": "markdown",
   "metadata": {},
   "source": [
    "<img src=\"./images/tensorboard2.png\" alt=\"Drawing\" />"
   ]
  },
  {
   "cell_type": "markdown",
   "metadata": {},
   "source": [
    "<img src=\"./images/tensorboard3.png\" alt=\"Drawing\" />"
   ]
  },
  {
   "cell_type": "markdown",
   "metadata": {},
   "source": [
    "<img src=\"./images/MeanEmbdPred.png\" alt=\"Drawing\" width=\"300px\"/>"
   ]
  },
  {
   "cell_type": "markdown",
   "metadata": {},
   "source": [
    "# Пример"
   ]
  },
  {
   "cell_type": "code",
   "execution_count": 40,
   "metadata": {},
   "outputs": [
    {
     "name": "stdout",
     "output_type": "stream",
     "text": [
      "1.6.0\n"
     ]
    }
   ],
   "source": [
    "import warnings\n",
    "warnings.filterwarnings(\"ignore\")\n",
    "\n",
    "import numpy as np\n",
    "import pandas as pd\n",
    "import seaborn as sns\n",
    "import matplotlib.pyplot as plt\n",
    "plt.style.use('ggplot')\n",
    "\n",
    "import torch\n",
    "\n",
    "print(torch.__version__)\n",
    "\n",
    "import torch.nn as nn # содержит функции для реалзации архитектуры нейронных сетей\n",
    "import torch.optim as optim\n",
    "import torch.utils.data as data_utils\n",
    "\n",
    "from torch.utils.tensorboard import SummaryWriter\n",
    "from pytorch_lightning.metrics import Accuracy\n",
    "\n",
    "from sklearn.model_selection import train_test_split\n",
    "from sklearn.preprocessing import LabelEncoder\n",
    "from sklearn.preprocessing import StandardScaler"
   ]
  },
  {
   "cell_type": "code",
   "execution_count": 68,
   "metadata": {},
   "outputs": [],
   "source": [
    "INPUT_SIZE = 37\n",
    "HIDDEN_SIZE = 25\n",
    "OUTPUT_SIZE = 4\n",
    "LEARNING_RATE = 1e-2\n",
    "EPOCHS = 400\n",
    "BATCH_SIZE = 256"
   ]
  },
  {
   "cell_type": "markdown",
   "metadata": {},
   "source": [
    "## ETL"
   ]
  },
  {
   "cell_type": "code",
   "execution_count": 69,
   "metadata": {},
   "outputs": [],
   "source": [
    "def load_dataset():\n",
    "    X = pd.read_csv('./data/X_cat.csv', sep='\\t', index_col=0)\n",
    "    target = pd.read_csv('./data/y_cat.csv', sep='\\t', index_col=0, names=['status'])  # header=-1,\n",
    "\n",
    "    print(X.shape)\n",
    "    print(X.head())\n",
    "\n",
    "    target = target.iloc[:, :].values\n",
    "    target[target == 'Died'] = 'Euthanasia'\n",
    "\n",
    "    le = LabelEncoder()\n",
    "    y = le.fit_transform(target)\n",
    "\n",
    "    return X, y"
   ]
  },
  {
   "cell_type": "code",
   "execution_count": 70,
   "metadata": {},
   "outputs": [],
   "source": [
    "def create_data_loader(X, y):\n",
    "    X_train, X_test, y_train, y_test = train_test_split(X.values, y,\n",
    "                                                        test_size=0.2, stratify=y, random_state=42)\n",
    "    \n",
    "    scaler = StandardScaler()\n",
    "    X_train = scaler.fit_transform(X_train)\n",
    "    X_test = scaler.transform(X_test)\n",
    "\n",
    "    train_tensor = data_utils.TensorDataset(torch.tensor(X_train.astype(np.float32)), torch.tensor(y_train))\n",
    "    train_loader = data_utils.DataLoader(dataset=train_tensor,\n",
    "                                         batch_size=BATCH_SIZE,\n",
    "                                         shuffle=True)\n",
    "\n",
    "    test_tensor = data_utils.TensorDataset(torch.tensor(X_test.astype(np.float32)), torch.tensor(y_test))\n",
    "    test_loader = data_utils.DataLoader(dataset=test_tensor,\n",
    "                                        batch_size=BATCH_SIZE,\n",
    "                                        shuffle=False)\n",
    "    \n",
    "    return X_train, X_test, y_train, y_test, train_loader, test_loader"
   ]
  },
  {
   "cell_type": "markdown",
   "metadata": {},
   "source": [
    "## Model Architecture"
   ]
  },
  {
   "cell_type": "code",
   "execution_count": 71,
   "metadata": {},
   "outputs": [],
   "source": [
    "class MLPNet(nn.Module):\n",
    "\n",
    "    def __init__(self, input_size, hidden_size, output_size):\n",
    "        super(MLPNet, self).__init__()\n",
    "\n",
    "        self.linear1 = torch.nn.Linear(input_size, hidden_size)\n",
    "\n",
    "        self.linear2 = torch.nn.Linear(hidden_size, hidden_size)\n",
    "\n",
    "        self.linear3 = torch.nn.Linear(hidden_size, output_size)\n",
    "\n",
    "    def forward(self, x):\n",
    "        output = self.linear1(x)\n",
    "        output = torch.relu(output)\n",
    "\n",
    "        output = self.linear2(output)\n",
    "        output = torch.relu(output)\n",
    "\n",
    "        output = self.linear3(output)\n",
    "        predictions = torch.softmax(output, dim=1)\n",
    "\n",
    "        return predictions"
   ]
  },
  {
   "cell_type": "markdown",
   "metadata": {},
   "source": [
    "## Train pipeline"
   ]
  },
  {
   "cell_type": "code",
   "execution_count": 72,
   "metadata": {},
   "outputs": [],
   "source": [
    "def run_train(model):\n",
    "    step = 0\n",
    "    for epoch in range(EPOCHS):\n",
    "        model.train()\n",
    "        for features, label in train_loader:\n",
    "            # Reset gradients\n",
    "            optimizer.zero_grad()\n",
    "\n",
    "            output = model(features)\n",
    "            # Calculate error and backpropagate\n",
    "            loss = criterion(output, label)\n",
    "            loss.backward()\n",
    "            acc = accuracy(output, label).item()\n",
    "\n",
    "            # Update weights with gradients\n",
    "            optimizer.step()\n",
    "\n",
    "            train_writer.add_scalar('CrossEntropyLoss', loss, step)\n",
    "            train_writer.add_scalar('Accuracy', acc, step)\n",
    "\n",
    "            step += 1\n",
    "\n",
    "            if step % 50 == 0:\n",
    "                print('EPOCH %d STEP %d : train_loss: %f train_acc: %f' %\n",
    "                      (epoch, step, loss, acc))\n",
    "\n",
    "        train_writer.add_histogram('hidden_layer', model.linear1.weight.data, step)\n",
    "\n",
    "        # Run validation\n",
    "        running_loss = []\n",
    "        valid_scores = []\n",
    "        valid_labels = []\n",
    "        model.eval()\n",
    "        with torch.no_grad():\n",
    "            for features, label in test_loader:\n",
    "                output = model(features)\n",
    "                # Calculate error and backpropagate\n",
    "                loss = criterion(output, label)\n",
    "\n",
    "                running_loss.append(loss.item())\n",
    "                valid_scores.extend(torch.argmax(output, dim=1))\n",
    "                valid_labels.extend(label)\n",
    "\n",
    "        valid_accuracy = accuracy(torch.tensor(valid_scores), torch.tensor(valid_labels)).item()\n",
    "\n",
    "        valid_writer.add_scalar('CrossEntropyLoss', np.mean(running_loss), step)\n",
    "        valid_writer.add_scalar('Accuracy', valid_accuracy, step)\n",
    "\n",
    "        print('EPOCH %d : valid_loss: %f valid_acc: %f' % (epoch, np.mean(running_loss), valid_accuracy))\n",
    "\n",
    "    return"
   ]
  },
  {
   "cell_type": "code",
   "execution_count": 73,
   "metadata": {},
   "outputs": [],
   "source": [
    "train_writer = SummaryWriter('./logs/valid')"
   ]
  },
  {
   "cell_type": "code",
   "execution_count": 74,
   "metadata": {},
   "outputs": [],
   "source": [
    "valid_writer = SummaryWriter('./logs/valid')"
   ]
  },
  {
   "cell_type": "code",
   "execution_count": 75,
   "metadata": {},
   "outputs": [
    {
     "name": "stdout",
     "output_type": "stream",
     "text": [
      "(26729, 37)\n",
      "   IsDog    Age  HasName  NameLength  NameFreq  MixColor  ColorFreqAsIs  \\\n",
      "0      1  365.0        1           7  0.000157         1       0.032919   \n",
      "1      0  365.0        1           5  0.000655         0       0.008092   \n",
      "2      1  730.0        1           6  0.000052         1       0.026293   \n",
      "3      0   21.0        0           7  0.285871         0       0.000471   \n",
      "4      1  730.0        0           7  0.285871         0       0.023831   \n",
      "\n",
      "   ColorFreqBase  TabbyColor  MixBreed  ...  SexStatus_Flawed  \\\n",
      "0       0.463624           0         1  ...                 1   \n",
      "1       0.015005           1         1  ...                 1   \n",
      "2       0.357521           0         1  ...                 1   \n",
      "3       0.058418           0         1  ...                 0   \n",
      "4       0.075353           0         0  ...                 1   \n",
      "\n",
      "   SexStatus_Intact  SexStatus_Unknown  Weekday_0  Weekday_1  Weekday_2  \\\n",
      "0                 0                  0          0          0          1   \n",
      "1                 0                  0          0          0          0   \n",
      "2                 0                  0          0          0          0   \n",
      "3                 1                  0          0          0          0   \n",
      "4                 0                  0          0          0          0   \n",
      "\n",
      "   Weekday_3  Weekday_4  Weekday_5  Weekday_6  \n",
      "0          0          0          0          0  \n",
      "1          0          0          0          1  \n",
      "2          0          0          1          0  \n",
      "3          0          1          0          0  \n",
      "4          0          1          0          0  \n",
      "\n",
      "[5 rows x 37 columns]\n"
     ]
    }
   ],
   "source": [
    "features, labels = load_dataset()\n",
    "X_train, X_test, y_train, y_test, train_loader, test_loader = create_data_loader(features, labels)\n"
   ]
  },
  {
   "cell_type": "code",
   "execution_count": 77,
   "metadata": {},
   "outputs": [],
   "source": [
    "model = MLPNet(INPUT_SIZE, HIDDEN_SIZE, OUTPUT_SIZE)\n",
    "\n",
    "criterion = nn.CrossEntropyLoss()\n",
    "accuracy = Accuracy()\n",
    "optimizer = optim.SGD(model.parameters(), lr=LEARNING_RATE)"
   ]
  },
  {
   "cell_type": "code",
   "execution_count": null,
   "metadata": {},
   "outputs": [],
   "source": [
    "train_writer.add_text('LEARNING_RATE', str(LEARNING_RATE))\n",
    "train_writer.add_text('INPUT_SIZE', str(INPUT_SIZE))\n",
    "train_writer.add_text('HIDDEN_SIZE', str(HIDDEN_SIZE))\n",
    "train_writer.add_text('NROF_CLASSES', str(OUTPUT_SIZE))\n",
    "train_writer.add_text('BATCH_SIZE', str(BATCH_SIZE))\n",
    "\n",
    "train_writer.add_graph(model, torch.tensor(X_test.astype(np.float32)), verbose=True)"
   ]
  },
  {
   "cell_type": "code",
   "execution_count": null,
   "metadata": {},
   "outputs": [],
   "source": [
    "run_train(model)"
   ]
  }
 ],
 "metadata": {
  "kernelspec": {
   "display_name": "Python 3",
   "language": "python",
   "name": "python3"
  },
  "language_info": {
   "codemirror_mode": {
    "name": "ipython",
    "version": 3
   },
   "file_extension": ".py",
   "mimetype": "text/x-python",
   "name": "python",
   "nbconvert_exporter": "python",
   "pygments_lexer": "ipython3",
   "version": "3.6.6"
  }
 },
 "nbformat": 4,
 "nbformat_minor": 4
}
